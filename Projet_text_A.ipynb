{
 "cells": [
  {
   "cell_type": "code",
   "execution_count": 39,
   "id": "5e5c8f6b",
   "metadata": {},
   "outputs": [],
   "source": [
    "import glob"
   ]
  },
  {
   "cell_type": "code",
   "execution_count": 40,
   "id": "b9597bf0",
   "metadata": {},
   "outputs": [],
   "source": [
    "def mon_fichier(chemin):\n",
    "    fichier = open(chemin, encoding=\"utf8\")\n",
    "    contenu = fichier.read()\n",
    "    fichier.close()\n",
    "    return contenu"
   ]
  },
  {
   "cell_type": "code",
   "execution_count": 41,
   "id": "aababea6",
   "metadata": {},
   "outputs": [],
   "source": [
    "def decoupage (chaine):\n",
    "    return chaine.split(' ')"
   ]
  },
  {
   "cell_type": "code",
   "execution_count": 45,
   "id": "21376476",
   "metadata": {},
   "outputs": [],
   "source": [
    "index = {}\n",
    "for chemin in glob.glob('europarl/fr/*')[:5]:\n",
    "    chaine = my_file(chemin)\n",
    " \n",
    "    mots = decoupage(chaine)\n",
    "    for mot in mots:\n",
    "        if mot not in index:\n",
    "            index[mot] = set()  # pour ne pas avoir de doublons\n",
    "        index[mot].add(chemin)"
   ]
  },
  {
   "cell_type": "code",
   "execution_count": 46,
   "id": "70cf0539",
   "metadata": {},
   "outputs": [
    {
     "name": "stdout",
     "output_type": "stream",
     "text": [
      "23468\n",
      "['\\n\\n', '', '\\n', 'Reprise', 'de', 'la', 'session\\n', 'Je', 'déclare', 'reprise', 'session', 'du', 'Parlement', 'européen', 'qui', 'avait', 'été', 'interrompue', 'le', 'vendredi', '17', 'décembre', 'dernier', 'et', 'je', 'vous', 'renouvelle', 'tous', 'mes', 'vux', 'en', 'espérant', 'que', 'avez', 'passé', 'bonnes', 'vacances.\\n', 'Comme', 'pu', 'constater,', 'grand', '\"bogue', \"l'an\", '2000\"', 'ne', \"s'est\", 'pas', 'produit.\\n', 'En', 'revanche,', 'les', 'citoyens', \"d'un\", 'certain', 'nombre', 'nos', 'pays', 'ont', 'victimes', 'catastrophes', 'naturelles', 'vraiment', 'terribles.\\n', 'Vous', 'souhaité', 'un', 'débat', 'à', 'ce', 'sujet', 'dans', 'prochains', 'jours,', 'au', 'cours', 'cette', 'période', 'session.\\n', 'attendant,', 'souhaiterais,', 'comme', 'collègues', 'me', \"l'ont\", 'demandé,', 'nous', 'observions', 'une', 'minute', 'silence', 'pour', 'toutes', 'victimes,', 'des', 'tempêtes', 'notamment,', 'différents', \"l'Union\", 'européenne', 'touchés.\\n']\n",
      "{'europarl/fr\\\\ep-00-01-17-fr.txt', 'europarl/fr\\\\ep-00-01-18-fr.txt', 'europarl/fr\\\\ep-00-01-21-fr.txt', 'europarl/fr\\\\ep-00-01-20-fr.txt'}\n"
     ]
    }
   ],
   "source": [
    "print(len(index)) # t a i l l e\n",
    "print(list(index.keys())[:100])\n",
    "print(index[\"indique\"])"
   ]
  },
  {
   "cell_type": "code",
   "execution_count": 47,
   "id": "c268c375",
   "metadata": {},
   "outputs": [
    {
     "name": "stdout",
     "output_type": "stream",
     "text": [
      "{'europarl/fr\\\\ep-00-01-17-fr.txt', 'europarl/fr\\\\ep-00-01-18-fr.txt', 'europarl/fr\\\\ep-00-01-21-fr.txt', 'europarl/fr\\\\ep-00-01-20-fr.txt'}\n"
     ]
    }
   ],
   "source": [
    "print((index[\"indique\"])  or(index[\"européenne\"]) or (index[\"toto\"]))"
   ]
  },
  {
   "cell_type": "code",
   "execution_count": 48,
   "id": "ff30c3d7",
   "metadata": {},
   "outputs": [
    {
     "name": "stdout",
     "output_type": "stream",
     "text": [
      "{'europarl/fr\\\\ep-00-01-17-fr.txt', 'europarl/fr\\\\ep-00-01-18-fr.txt', 'europarl/fr\\\\ep-00-01-21-fr.txt', 'europarl/fr\\\\ep-00-01-20-fr.txt'}\n",
      "{'europarl/fr\\\\ep-00-01-18-fr.txt', 'europarl/fr\\\\ep-00-01-20-fr.txt', 'europarl/fr\\\\ep-00-01-17-fr.txt', 'europarl/fr\\\\ep-00-01-21-fr.txt', 'europarl/fr\\\\ep-00-01-19-fr.txt'}\n",
      "{'europarl/fr\\\\ep-00-01-18-fr.txt'}\n"
     ]
    }
   ],
   "source": [
    "print(index['indique'])\n",
    "print(index['européenne'])\n",
    "print(index['toto'])"
   ]
  },
  {
   "cell_type": "code",
   "execution_count": 49,
   "id": "32509794",
   "metadata": {},
   "outputs": [
    {
     "name": "stdout",
     "output_type": "stream",
     "text": [
      "['europarl/fr\\\\ep-00-01-18-fr.txt', 'europarl/fr\\\\ep-00-01-20-fr.txt', 'europarl/fr\\\\ep-00-01-17-fr.txt', 'europarl/fr\\\\ep-00-01-21-fr.txt', 'europarl/fr\\\\ep-00-01-19-fr.txt']\n"
     ]
    }
   ],
   "source": [
    "import json\n",
    "# lignes obligatoires (transformer le set() en liste):\n",
    "\n",
    "index = {mot : list(liste_fichiers) for mot, liste_fichiers in index.items()}\n",
    "\n",
    "w = open(\"index.json\", \"w\")\n",
    "w.write(json.dumps(index))\n",
    "w.close()\n",
    "\n",
    "f = open(\"index.json\", \"r\")\n",
    "index = json.load(f)\n",
    "f.close()\n",
    "\n",
    "variable ='Commission Européenne'\n",
    "v = decoupage(variable)\n",
    "\n",
    "print((index[v[0]]) or (index[v[1]])[:10])"
   ]
  },
  {
   "cell_type": "code",
   "execution_count": 50,
   "id": "cd98a5ae",
   "metadata": {},
   "outputs": [],
   "source": [
    "def modif_texte_dossier(dossier_in):\n",
    "    \"\"\"\n",
    "    dossier_in : dossier de fichiers à modifier.\n",
    "    \n",
    "    \"\"\"\n",
    "    import os\n",
    "    os.chdir(dossier_in)\n",
    "    liste_fichiers= os.listdir(dossier_in)\n",
    "    for i in range (len(liste_fichiers)):\n",
    "        modification_texte(liste_fichiers[i], i+1)"
   ]
  },
  {
   "cell_type": "code",
   "execution_count": 55,
   "id": "e00c9851",
   "metadata": {},
   "outputs": [
    {
     "ename": "OSError",
     "evalue": "[WinError 123] La syntaxe du nom de fichier, de répertoire ou de volume est incorrecte: 'europarl/fr/*'",
     "output_type": "error",
     "traceback": [
      "\u001b[1;31m---------------------------------------------------------------------------\u001b[0m",
      "\u001b[1;31mOSError\u001b[0m                                   Traceback (most recent call last)",
      "\u001b[1;32m<ipython-input-55-622b8e1eb2b5>\u001b[0m in \u001b[0;36m<module>\u001b[1;34m\u001b[0m\n\u001b[1;32m----> 1\u001b[1;33m \u001b[0mmodif_texte_dossier\u001b[0m\u001b[1;33m(\u001b[0m\u001b[1;34m'europarl/fr/*'\u001b[0m\u001b[1;33m)\u001b[0m\u001b[1;33m\u001b[0m\u001b[1;33m\u001b[0m\u001b[0m\n\u001b[0m",
      "\u001b[1;32m<ipython-input-50-7bcff27624cf>\u001b[0m in \u001b[0;36mmodif_texte_dossier\u001b[1;34m(dossier_in)\u001b[0m\n\u001b[0;32m      5\u001b[0m     \"\"\"\n\u001b[0;32m      6\u001b[0m     \u001b[1;32mimport\u001b[0m \u001b[0mos\u001b[0m\u001b[1;33m\u001b[0m\u001b[1;33m\u001b[0m\u001b[0m\n\u001b[1;32m----> 7\u001b[1;33m     \u001b[0mos\u001b[0m\u001b[1;33m.\u001b[0m\u001b[0mchdir\u001b[0m\u001b[1;33m(\u001b[0m\u001b[0mdossier_in\u001b[0m\u001b[1;33m)\u001b[0m\u001b[1;33m\u001b[0m\u001b[1;33m\u001b[0m\u001b[0m\n\u001b[0m\u001b[0;32m      8\u001b[0m     \u001b[0mliste_fichiers\u001b[0m\u001b[1;33m=\u001b[0m \u001b[0mos\u001b[0m\u001b[1;33m.\u001b[0m\u001b[0mlistdir\u001b[0m\u001b[1;33m(\u001b[0m\u001b[0mdossier_in\u001b[0m\u001b[1;33m)\u001b[0m\u001b[1;33m\u001b[0m\u001b[1;33m\u001b[0m\u001b[0m\n\u001b[0;32m      9\u001b[0m     \u001b[1;32mfor\u001b[0m \u001b[0mi\u001b[0m \u001b[1;32min\u001b[0m \u001b[0mrange\u001b[0m \u001b[1;33m(\u001b[0m\u001b[0mlen\u001b[0m\u001b[1;33m(\u001b[0m\u001b[0mliste_fichiers\u001b[0m\u001b[1;33m)\u001b[0m\u001b[1;33m)\u001b[0m\u001b[1;33m:\u001b[0m\u001b[1;33m\u001b[0m\u001b[1;33m\u001b[0m\u001b[0m\n",
      "\u001b[1;31mOSError\u001b[0m: [WinError 123] La syntaxe du nom de fichier, de répertoire ou de volume est incorrecte: 'europarl/fr/*'"
     ]
    }
   ],
   "source": [
    "modif_texte_dossier('europarl/fr/*')"
   ]
  },
  {
   "cell_type": "code",
   "execution_count": null,
   "id": "f81caec3",
   "metadata": {},
   "outputs": [],
   "source": []
  },
  {
   "cell_type": "code",
   "execution_count": null,
   "id": "faf708e8",
   "metadata": {},
   "outputs": [],
   "source": []
  }
 ],
 "metadata": {
  "kernelspec": {
   "display_name": "Python 3",
   "language": "python",
   "name": "python3"
  },
  "language_info": {
   "codemirror_mode": {
    "name": "ipython",
    "version": 3
   },
   "file_extension": ".py",
   "mimetype": "text/x-python",
   "name": "python",
   "nbconvert_exporter": "python",
   "pygments_lexer": "ipython3",
   "version": "3.8.8"
  }
 },
 "nbformat": 4,
 "nbformat_minor": 5
}
