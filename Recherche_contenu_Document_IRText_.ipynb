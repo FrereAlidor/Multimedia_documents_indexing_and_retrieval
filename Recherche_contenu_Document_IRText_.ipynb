{
  "cells": [
    {
      "cell_type": "code",
      "execution_count": null,
      "id": "uda4Lg6ouRzR",
      "metadata": {
        "colab": {
          "base_uri": "https://localhost:8080/"
        },
        "id": "uda4Lg6ouRzR",
        "outputId": "6e36840d-0155-41a8-ab6c-67939f2f2fcc"
      },
      "outputs": [
        {
          "output_type": "stream",
          "name": "stdout",
          "text": [
            "Drive already mounted at /content/drive; to attempt to forcibly remount, call drive.mount(\"/content/drive\", force_remount=True).\n"
          ]
        }
      ],
      "source": [
        "from google.colab import drive\n",
        "drive.mount('/content/drive')"
      ]
    },
    {
      "cell_type": "code",
      "execution_count": null,
      "id": "caJ0g2aouVd6",
      "metadata": {
        "id": "caJ0g2aouVd6"
      },
      "outputs": [],
      "source": [
        "import numpy as np\n",
        "import csv\n",
        "import urllib.request\n",
        "import seaborn as sns\n",
        "import pandas as pd\n",
        "import json\n",
        "import re\n",
        "import os\n",
        "import glob\n",
        "import nltk\n",
        "from nltk.corpus import stopwords\n",
        "import matplotlib.pyplot as plt\n",
        "import matplotlib as mpl"
      ]
    },
    {
      "cell_type": "code",
      "execution_count": null,
      "id": "kdekSbJruqqQ",
      "metadata": {
        "id": "kdekSbJruqqQ"
      },
      "outputs": [],
      "source": [
        "# import zipfile\n",
        "\n",
        "# zip_path = '/content/drive/MyDrive/Index/europarl.zip'\n",
        "# extract_path = '/content/drive/MyDrive/Index/europarl'\n",
        "\n",
        "# with zipfile.ZipFile(zip_path, 'r') as zip_ref:\n",
        "#     zip_ref.extractall(extract_path)"
      ]
    },
    {
      "cell_type": "markdown",
      "source": [
        "# **Exercice 1 : Construire un index**"
      ],
      "metadata": {
        "id": "LRpwG6n15YbC"
      },
      "id": "LRpwG6n15YbC"
    },
    {
      "cell_type": "code",
      "execution_count": null,
      "id": "319e9c95",
      "metadata": {
        "id": "319e9c95"
      },
      "outputs": [],
      "source": [
        "def acces_fichier(chemin):\n",
        "    fichier = open(chemin, encoding=\"utf8\")\n",
        "    contenu = fichier.read()\n",
        "    fichier.close()\n",
        "    return contenu"
      ]
    },
    {
      "cell_type": "code",
      "execution_count": null,
      "id": "92b2b76e",
      "metadata": {
        "id": "92b2b76e"
      },
      "outputs": [],
      "source": [
        "def decoup (chaine):\n",
        "    return chaine.split(' ')"
      ]
    },
    {
      "cell_type": "code",
      "execution_count": null,
      "id": "524530cc",
      "metadata": {
        "id": "524530cc"
      },
      "outputs": [],
      "source": [
        "import glob\n",
        "import os\n",
        "import chardet\n",
        "\n",
        "def acces_fichier(chemin):\n",
        "    with open(chemin, 'rb') as fichier:\n",
        "        raw_data = fichier.read()\n",
        "        result = chardet.detect(raw_data)\n",
        "        encoding = result['encoding']\n",
        "\n",
        "    with open(chemin, encoding=encoding, errors='ignore') as fichier:\n",
        "        contenu = fichier.read()\n",
        "    return contenu\n",
        "\n",
        "def decoup(chaine):\n",
        "    return chaine.split()\n",
        "\n",
        "index = {}\n",
        "sous_dossier = \"/content/drive/MyDrive/Index/europarl/europarl/fr\"\n",
        "\n",
        "# Récupérer tous les fichiers dans le sous-dossier et ses sous-dossiers\n",
        "chemins = [os.path.join(root, file)\n",
        "           for root, dirs, files in os.walk(sous_dossier)\n",
        "           for file in files]\n",
        "\n",
        "for chemin in chemins:\n",
        "    if os.path.isfile(chemin):\n",
        "        chaine = acces_fichier(chemin)\n",
        "        mots = decoup(chaine)\n",
        "        for mot in mots:\n",
        "            if mot not in index:\n",
        "                index[mot] = set()\n",
        "            index[mot].add(chemin)\n",
        "\n",
        "# Afficher la taille de l'index\n",
        "print(len(index))\n",
        "\n",
        "# Afficher les 50 premières clés de l'index\n",
        "print(list(index.keys())[:50])\n"
      ]
    },
    {
      "cell_type": "code",
      "execution_count": null,
      "id": "d800f1c8",
      "metadata": {
        "id": "d800f1c8"
      },
      "outputs": [],
      "source": [
        "print(index[\"indique\"])"
      ]
    },
    {
      "cell_type": "code",
      "execution_count": null,
      "id": "2fa7c6ab",
      "metadata": {
        "id": "2fa7c6ab"
      },
      "outputs": [],
      "source": [
        "print(index[\"européenne\"])"
      ]
    },
    {
      "cell_type": "code",
      "execution_count": null,
      "id": "bf1a796e",
      "metadata": {
        "colab": {
          "base_uri": "https://localhost:8080/"
        },
        "id": "bf1a796e",
        "outputId": "519e8a12-5724-464c-808a-14c37411876a"
      },
      "outputs": [
        {
          "output_type": "stream",
          "name": "stdout",
          "text": [
            "{'/content/drive/MyDrive/Index/europarl/europarl/fr/ep-02-10-22-fr.txt', '/content/drive/MyDrive/Index/europarl/europarl/fr/ep-00-01-18-fr.txt'}\n"
          ]
        }
      ],
      "source": [
        "print(index[\"toto\"])"
      ]
    },
    {
      "cell_type": "code",
      "execution_count": null,
      "id": "f025e9d3",
      "metadata": {
        "id": "f025e9d3"
      },
      "outputs": [],
      "source": [
        "index = {mot:list( liste_fichiers )\n",
        "for mot , liste_fichiers in index.items ()}\n",
        "w = open(\"index.json\", \"w\")\n",
        "w.write(json.dumps(index ))\n",
        "w.close ()"
      ]
    },
    {
      "cell_type": "code",
      "execution_count": null,
      "id": "dcefdb8f",
      "metadata": {
        "colab": {
          "base_uri": "https://localhost:8080/"
        },
        "id": "dcefdb8f",
        "outputId": "4e8f3b44-4c09-49d1-dcef-75f835d8ffc0"
      },
      "outputs": [
        {
          "output_type": "stream",
          "name": "stdout",
          "text": [
            "['Commission', 'Europeenne']\n"
          ]
        }
      ],
      "source": [
        "comEur=\"Commission Europeenne\"\n",
        "nv=decoup(comEur)\n",
        "\n",
        "print(nv)"
      ]
    },
    {
      "cell_type": "code",
      "execution_count": null,
      "id": "d462ca4a",
      "metadata": {
        "id": "d462ca4a"
      },
      "outputs": [],
      "source": [
        "print(index[nv[0]])"
      ]
    },
    {
      "cell_type": "markdown",
      "source": [
        "# **Exercice 3 : Pr´esenter les contextes**"
      ],
      "metadata": {
        "id": "yS6y-Nal5O7e"
      },
      "id": "yS6y-Nal5O7e"
    },
    {
      "cell_type": "code",
      "execution_count": null,
      "id": "15afe727",
      "metadata": {
        "id": "15afe727"
      },
      "outputs": [],
      "source": [
        "import re\n",
        "\n",
        "def afficher_contextes(chaine, terme, taille_contexte=30):\n",
        "    match = re.search(terme, chaine)\n",
        "    contexts = []\n",
        "    while match is not None:\n",
        "        # Les bornes gauche et droite autour du mot\n",
        "        gauche = max(match.start() - taille_contexte, 0)\n",
        "        droite = match.end() + taille_contexte\n",
        "        contexts.append(chaine[gauche:droite])\n",
        "        chaine = chaine[match.end():]\n",
        "        match = re.search(terme, chaine)\n",
        "    return contexts\n"
      ]
    },
    {
      "cell_type": "code",
      "execution_count": null,
      "id": "7a979b90",
      "metadata": {
        "id": "7a979b90"
      },
      "outputs": [],
      "source": [
        "terme = \"commission \"\n",
        "\n",
        "for chemin in chemins:\n",
        "    if os.path.isfile(chemin):\n",
        "        chaine = acces_fichier(chemin)\n",
        "        contexts = afficher_contextes(chaine, terme)\n",
        "        for c in contexts:\n",
        "            print(contexts)\n"
      ]
    },
    {
      "cell_type": "markdown",
      "source": [
        "# **Exercice 4 : Du texte au token**"
      ],
      "metadata": {
        "id": "f6W2IzKc5HkD"
      },
      "id": "f6W2IzKc5HkD"
    },
    {
      "cell_type": "code",
      "execution_count": null,
      "id": "379cbeed",
      "metadata": {
        "id": "379cbeed"
      },
      "outputs": [],
      "source": [
        "import nltk\n",
        "from nltk.corpus import stopwords\n",
        "\n",
        "# Assurez-vous d'avoir téléchargé les ressources nécessaires\n",
        "nltk.download('punkt')\n",
        "nltk.download('stopwords')\n",
        "\n",
        "# Exemple de contenu texte\n",
        "texte = \"\"\"\n",
        "Reprise de la session\n",
        "Je déclare reprise la session du Parlement européen qui avait été interrompue le vendredi 17 décembre dernier et je vous renouvelle tous mes vœux en espérant que vous avez passé de bonnes vacances.\n",
        "Comme vous avez pu le constater, le grand \"bogue de l'an 2000\" ne s'est pas produit.\n",
        "\"\"\"\n",
        "\n",
        "# Tokenisation du texte en mots\n",
        "tokens = nltk.word_tokenize(texte, language='french')\n",
        "\n",
        "# Suppression des mots vides\n",
        "tokens = [w for w in tokens if w.lower() not in stopwords.words('french')]\n",
        "\n",
        "print(tokens)\n"
      ]
    },
    {
      "cell_type": "markdown",
      "source": [
        "# **Exercice 5 : Construire l’index et l’index invers´e**"
      ],
      "metadata": {
        "id": "G2VwsyX85BfO"
      },
      "id": "G2VwsyX85BfO"
    },
    {
      "cell_type": "code",
      "execution_count": null,
      "id": "a0750681",
      "metadata": {
        "id": "a0750681",
        "colab": {
          "base_uri": "https://localhost:8080/"
        },
        "outputId": "9f6c402d-dbb6-44b3-8d74-c0ecb14c6632"
      },
      "outputs": [
        {
          "metadata": {
            "tags": null
          },
          "name": "stderr",
          "output_type": "stream",
          "text": [
            "[nltk_data] Downloading package punkt to /root/nltk_data...\n",
            "[nltk_data]   Package punkt is already up-to-date!\n",
            "[nltk_data] Downloading package stopwords to /root/nltk_data...\n",
            "[nltk_data]   Package stopwords is already up-to-date!\n"
          ]
        },
        {
          "output_type": "stream",
          "name": "stdout",
          "text": [
            "Nombre total de fichiers à traiter: 364\n",
            "Fichiers traités: 100/364\n",
            "Fichiers traités: 200/364\n",
            "Fichiers traités: 300/364\n",
            "Fichiers traités: 364/364\n",
            "Temps total d'exécution: 5008.920107603073 secondes\n",
            "Nombre de termes différents : 112387\n",
            "Nombre de documents : 364\n",
            "Nombre de documents trouvés pour la requête 'commission' : 362\n",
            "Nombre de documents trouvés pour la requête 'européenne' : 363\n"
          ]
        }
      ],
      "source": [
        "import os\n",
        "import nltk\n",
        "from nltk.corpus import stopwords\n",
        "import chardet\n",
        "import time\n",
        "\n",
        "# Assurez-vous d'avoir téléchargé les ressources nécessaires\n",
        "nltk.download('punkt')\n",
        "nltk.download('stopwords')\n",
        "\n",
        "def acces_fichier(chemin):\n",
        "    with open(chemin, 'rb') as fichier:\n",
        "        raw_data = fichier.read()\n",
        "        result = chardet.detect(raw_data)\n",
        "        encoding = result['encoding']\n",
        "\n",
        "    with open(chemin, encoding=encoding, errors='ignore') as fichier:\n",
        "        contenu = fichier.read()\n",
        "    return contenu\n",
        "\n",
        "def creer_index(sous_dossier):\n",
        "    index = {}\n",
        "    chemins = [os.path.join(root, file)\n",
        "               for root, dirs, files in os.walk(sous_dossier)\n",
        "               for file in files]\n",
        "\n",
        "    total_files = len(chemins)\n",
        "    print(f\"Nombre total de fichiers à traiter: {total_files}\")\n",
        "\n",
        "    for i, chemin in enumerate(chemins):\n",
        "        if os.path.isfile(chemin):\n",
        "            texte = acces_fichier(chemin)\n",
        "            tokens = nltk.word_tokenize(texte, language='french')\n",
        "            tokens = [w.lower() for w in tokens if w.lower() not in stopwords.words('french')]\n",
        "            for mot in tokens:\n",
        "                if mot not in index:\n",
        "                    index[mot] = set()\n",
        "                index[mot].add(chemin)\n",
        "\n",
        "        if (i + 1) % 100 == 0 or (i + 1) == total_files:\n",
        "            print(f\"Fichiers traités: {i + 1}/{total_files}\")\n",
        "\n",
        "    return index\n",
        "\n",
        "def creer_index_inverse(index):\n",
        "    index_inverse = {}\n",
        "    for mot, chemins in index.items():\n",
        "        for chemin in chemins:\n",
        "            if chemin not in index_inverse:\n",
        "                index_inverse[chemin] = set()\n",
        "            index_inverse[chemin].add(mot)\n",
        "    return index_inverse\n",
        "\n",
        "def requeter_documents(requete, index):\n",
        "    if requete in index:\n",
        "        return list(index[requete])\n",
        "    else:\n",
        "        return []\n",
        "\n",
        "# Modifier le chemin selon votre configuration\n",
        "sous_dossier = \"/content/drive/MyDrive/Index/europarl/europarl/fr\"\n",
        "\n",
        "# Créer l'index et l'index inverse\n",
        "start_time = time.time()\n",
        "index = creer_index(sous_dossier)\n",
        "index_inverse = creer_index_inverse(index)\n",
        "end_time = time.time()\n",
        "\n",
        "print(f\"Temps total d'exécution: {end_time - start_time} secondes\")\n",
        "print(\"Nombre de termes différents :\", len(index.keys()))\n",
        "print(\"Nombre de documents :\", len(index_inverse.keys()))\n",
        "\n",
        "# Exemple d'utilisation de la fonction requeter_documents\n",
        "requete1 = \"commission\"\n",
        "docs_trouves = requeter_documents(requete1, index)\n",
        "print(f\"Nombre de documents trouvés pour la requête '{requete1}' :\", len(docs_trouves))\n",
        "\n",
        "requete2 = \"européenne\"\n",
        "docs_trouves = requeter_documents(requete2, index)\n",
        "print(f\"Nombre de documents trouvés pour la requête '{requete2}' :\", len(docs_trouves))\n"
      ]
    },
    {
      "cell_type": "code",
      "execution_count": null,
      "id": "95dac7cb",
      "metadata": {
        "id": "95dac7cb",
        "colab": {
          "base_uri": "https://localhost:8080/"
        },
        "outputId": "42f2a445-2269-40bd-9cdb-47c442e6111a"
      },
      "outputs": [
        {
          "output_type": "stream",
          "name": "stdout",
          "text": [
            " Nombre de documents trouvés : 362\n",
            " Nombre de documents trouvés : 363\n"
          ]
        }
      ],
      "source": [
        "requete = \"commission\"\n",
        "docs_trouves = requeter_documents (requete , index)\n",
        "print (\" Nombre de documents trouvés :\", len( docs_trouves ))\n",
        "requete = \"européenne\"\n",
        "docs_trouves = requeter_documents (requete , index)\n",
        "print (\" Nombre de documents trouvés :\", len( docs_trouves ))"
      ]
    },
    {
      "cell_type": "code",
      "execution_count": null,
      "id": "bcb229e6",
      "metadata": {
        "id": "bcb229e6"
      },
      "outputs": [],
      "source": [
        "\n",
        "allDocs ={ \"docA\":{\"Le\":0.25 ,\"petit\":0.25 ,\"chat\":0.25 ,\"dort\" :0.25},\n",
        "\"docB\": {\"Le\":0.3333 , \"chat\":0.3333 , \"dort\" :0.3333},\n",
        "\"docC\": {\"Jean\":0.5 , \"dort\" :0.5}}\n"
      ]
    },
    {
      "cell_type": "code",
      "execution_count": null,
      "id": "2948a4c6",
      "metadata": {
        "id": "2948a4c6"
      },
      "outputs": [],
      "source": [
        "import pandas as pd\n",
        "from sklearn.feature_extraction.text import TfidfVectorizer"
      ]
    },
    {
      "cell_type": "code",
      "execution_count": null,
      "id": "c492edf9",
      "metadata": {
        "id": "c492edf9"
      },
      "outputs": [],
      "source": [
        "df=pd.DataFrame(allDocs)"
      ]
    },
    {
      "cell_type": "code",
      "execution_count": null,
      "id": "d668bf6f",
      "metadata": {
        "id": "d668bf6f",
        "outputId": "9e90afd5-49a7-4890-e5a8-8ad7644e592f",
        "colab": {
          "base_uri": "https://localhost:8080/",
          "height": 206
        }
      },
      "outputs": [
        {
          "output_type": "execute_result",
          "data": {
            "text/plain": [
              "       docA    docB  docC\n",
              "Le     0.25  0.3333   NaN\n",
              "petit  0.25     NaN   NaN\n",
              "chat   0.25  0.3333   NaN\n",
              "dort   0.25  0.3333   0.5\n",
              "Jean    NaN     NaN   0.5"
            ],
            "text/html": [
              "\n",
              "  <div id=\"df-e6358548-887e-4251-b162-dbeb7a524fad\" class=\"colab-df-container\">\n",
              "    <div>\n",
              "<style scoped>\n",
              "    .dataframe tbody tr th:only-of-type {\n",
              "        vertical-align: middle;\n",
              "    }\n",
              "\n",
              "    .dataframe tbody tr th {\n",
              "        vertical-align: top;\n",
              "    }\n",
              "\n",
              "    .dataframe thead th {\n",
              "        text-align: right;\n",
              "    }\n",
              "</style>\n",
              "<table border=\"1\" class=\"dataframe\">\n",
              "  <thead>\n",
              "    <tr style=\"text-align: right;\">\n",
              "      <th></th>\n",
              "      <th>docA</th>\n",
              "      <th>docB</th>\n",
              "      <th>docC</th>\n",
              "    </tr>\n",
              "  </thead>\n",
              "  <tbody>\n",
              "    <tr>\n",
              "      <th>Le</th>\n",
              "      <td>0.25</td>\n",
              "      <td>0.3333</td>\n",
              "      <td>NaN</td>\n",
              "    </tr>\n",
              "    <tr>\n",
              "      <th>petit</th>\n",
              "      <td>0.25</td>\n",
              "      <td>NaN</td>\n",
              "      <td>NaN</td>\n",
              "    </tr>\n",
              "    <tr>\n",
              "      <th>chat</th>\n",
              "      <td>0.25</td>\n",
              "      <td>0.3333</td>\n",
              "      <td>NaN</td>\n",
              "    </tr>\n",
              "    <tr>\n",
              "      <th>dort</th>\n",
              "      <td>0.25</td>\n",
              "      <td>0.3333</td>\n",
              "      <td>0.5</td>\n",
              "    </tr>\n",
              "    <tr>\n",
              "      <th>Jean</th>\n",
              "      <td>NaN</td>\n",
              "      <td>NaN</td>\n",
              "      <td>0.5</td>\n",
              "    </tr>\n",
              "  </tbody>\n",
              "</table>\n",
              "</div>\n",
              "    <div class=\"colab-df-buttons\">\n",
              "\n",
              "  <div class=\"colab-df-container\">\n",
              "    <button class=\"colab-df-convert\" onclick=\"convertToInteractive('df-e6358548-887e-4251-b162-dbeb7a524fad')\"\n",
              "            title=\"Convert this dataframe to an interactive table.\"\n",
              "            style=\"display:none;\">\n",
              "\n",
              "  <svg xmlns=\"http://www.w3.org/2000/svg\" height=\"24px\" viewBox=\"0 -960 960 960\">\n",
              "    <path d=\"M120-120v-720h720v720H120Zm60-500h600v-160H180v160Zm220 220h160v-160H400v160Zm0 220h160v-160H400v160ZM180-400h160v-160H180v160Zm440 0h160v-160H620v160ZM180-180h160v-160H180v160Zm440 0h160v-160H620v160Z\"/>\n",
              "  </svg>\n",
              "    </button>\n",
              "\n",
              "  <style>\n",
              "    .colab-df-container {\n",
              "      display:flex;\n",
              "      gap: 12px;\n",
              "    }\n",
              "\n",
              "    .colab-df-convert {\n",
              "      background-color: #E8F0FE;\n",
              "      border: none;\n",
              "      border-radius: 50%;\n",
              "      cursor: pointer;\n",
              "      display: none;\n",
              "      fill: #1967D2;\n",
              "      height: 32px;\n",
              "      padding: 0 0 0 0;\n",
              "      width: 32px;\n",
              "    }\n",
              "\n",
              "    .colab-df-convert:hover {\n",
              "      background-color: #E2EBFA;\n",
              "      box-shadow: 0px 1px 2px rgba(60, 64, 67, 0.3), 0px 1px 3px 1px rgba(60, 64, 67, 0.15);\n",
              "      fill: #174EA6;\n",
              "    }\n",
              "\n",
              "    .colab-df-buttons div {\n",
              "      margin-bottom: 4px;\n",
              "    }\n",
              "\n",
              "    [theme=dark] .colab-df-convert {\n",
              "      background-color: #3B4455;\n",
              "      fill: #D2E3FC;\n",
              "    }\n",
              "\n",
              "    [theme=dark] .colab-df-convert:hover {\n",
              "      background-color: #434B5C;\n",
              "      box-shadow: 0px 1px 3px 1px rgba(0, 0, 0, 0.15);\n",
              "      filter: drop-shadow(0px 1px 2px rgba(0, 0, 0, 0.3));\n",
              "      fill: #FFFFFF;\n",
              "    }\n",
              "  </style>\n",
              "\n",
              "    <script>\n",
              "      const buttonEl =\n",
              "        document.querySelector('#df-e6358548-887e-4251-b162-dbeb7a524fad button.colab-df-convert');\n",
              "      buttonEl.style.display =\n",
              "        google.colab.kernel.accessAllowed ? 'block' : 'none';\n",
              "\n",
              "      async function convertToInteractive(key) {\n",
              "        const element = document.querySelector('#df-e6358548-887e-4251-b162-dbeb7a524fad');\n",
              "        const dataTable =\n",
              "          await google.colab.kernel.invokeFunction('convertToInteractive',\n",
              "                                                    [key], {});\n",
              "        if (!dataTable) return;\n",
              "\n",
              "        const docLinkHtml = 'Like what you see? Visit the ' +\n",
              "          '<a target=\"_blank\" href=https://colab.research.google.com/notebooks/data_table.ipynb>data table notebook</a>'\n",
              "          + ' to learn more about interactive tables.';\n",
              "        element.innerHTML = '';\n",
              "        dataTable['output_type'] = 'display_data';\n",
              "        await google.colab.output.renderOutput(dataTable, element);\n",
              "        const docLink = document.createElement('div');\n",
              "        docLink.innerHTML = docLinkHtml;\n",
              "        element.appendChild(docLink);\n",
              "      }\n",
              "    </script>\n",
              "  </div>\n",
              "\n",
              "\n",
              "<div id=\"df-403b0e95-969d-4def-9356-ab1a723726d8\">\n",
              "  <button class=\"colab-df-quickchart\" onclick=\"quickchart('df-403b0e95-969d-4def-9356-ab1a723726d8')\"\n",
              "            title=\"Suggest charts\"\n",
              "            style=\"display:none;\">\n",
              "\n",
              "<svg xmlns=\"http://www.w3.org/2000/svg\" height=\"24px\"viewBox=\"0 0 24 24\"\n",
              "     width=\"24px\">\n",
              "    <g>\n",
              "        <path d=\"M19 3H5c-1.1 0-2 .9-2 2v14c0 1.1.9 2 2 2h14c1.1 0 2-.9 2-2V5c0-1.1-.9-2-2-2zM9 17H7v-7h2v7zm4 0h-2V7h2v10zm4 0h-2v-4h2v4z\"/>\n",
              "    </g>\n",
              "</svg>\n",
              "  </button>\n",
              "\n",
              "<style>\n",
              "  .colab-df-quickchart {\n",
              "      --bg-color: #E8F0FE;\n",
              "      --fill-color: #1967D2;\n",
              "      --hover-bg-color: #E2EBFA;\n",
              "      --hover-fill-color: #174EA6;\n",
              "      --disabled-fill-color: #AAA;\n",
              "      --disabled-bg-color: #DDD;\n",
              "  }\n",
              "\n",
              "  [theme=dark] .colab-df-quickchart {\n",
              "      --bg-color: #3B4455;\n",
              "      --fill-color: #D2E3FC;\n",
              "      --hover-bg-color: #434B5C;\n",
              "      --hover-fill-color: #FFFFFF;\n",
              "      --disabled-bg-color: #3B4455;\n",
              "      --disabled-fill-color: #666;\n",
              "  }\n",
              "\n",
              "  .colab-df-quickchart {\n",
              "    background-color: var(--bg-color);\n",
              "    border: none;\n",
              "    border-radius: 50%;\n",
              "    cursor: pointer;\n",
              "    display: none;\n",
              "    fill: var(--fill-color);\n",
              "    height: 32px;\n",
              "    padding: 0;\n",
              "    width: 32px;\n",
              "  }\n",
              "\n",
              "  .colab-df-quickchart:hover {\n",
              "    background-color: var(--hover-bg-color);\n",
              "    box-shadow: 0 1px 2px rgba(60, 64, 67, 0.3), 0 1px 3px 1px rgba(60, 64, 67, 0.15);\n",
              "    fill: var(--button-hover-fill-color);\n",
              "  }\n",
              "\n",
              "  .colab-df-quickchart-complete:disabled,\n",
              "  .colab-df-quickchart-complete:disabled:hover {\n",
              "    background-color: var(--disabled-bg-color);\n",
              "    fill: var(--disabled-fill-color);\n",
              "    box-shadow: none;\n",
              "  }\n",
              "\n",
              "  .colab-df-spinner {\n",
              "    border: 2px solid var(--fill-color);\n",
              "    border-color: transparent;\n",
              "    border-bottom-color: var(--fill-color);\n",
              "    animation:\n",
              "      spin 1s steps(1) infinite;\n",
              "  }\n",
              "\n",
              "  @keyframes spin {\n",
              "    0% {\n",
              "      border-color: transparent;\n",
              "      border-bottom-color: var(--fill-color);\n",
              "      border-left-color: var(--fill-color);\n",
              "    }\n",
              "    20% {\n",
              "      border-color: transparent;\n",
              "      border-left-color: var(--fill-color);\n",
              "      border-top-color: var(--fill-color);\n",
              "    }\n",
              "    30% {\n",
              "      border-color: transparent;\n",
              "      border-left-color: var(--fill-color);\n",
              "      border-top-color: var(--fill-color);\n",
              "      border-right-color: var(--fill-color);\n",
              "    }\n",
              "    40% {\n",
              "      border-color: transparent;\n",
              "      border-right-color: var(--fill-color);\n",
              "      border-top-color: var(--fill-color);\n",
              "    }\n",
              "    60% {\n",
              "      border-color: transparent;\n",
              "      border-right-color: var(--fill-color);\n",
              "    }\n",
              "    80% {\n",
              "      border-color: transparent;\n",
              "      border-right-color: var(--fill-color);\n",
              "      border-bottom-color: var(--fill-color);\n",
              "    }\n",
              "    90% {\n",
              "      border-color: transparent;\n",
              "      border-bottom-color: var(--fill-color);\n",
              "    }\n",
              "  }\n",
              "</style>\n",
              "\n",
              "  <script>\n",
              "    async function quickchart(key) {\n",
              "      const quickchartButtonEl =\n",
              "        document.querySelector('#' + key + ' button');\n",
              "      quickchartButtonEl.disabled = true;  // To prevent multiple clicks.\n",
              "      quickchartButtonEl.classList.add('colab-df-spinner');\n",
              "      try {\n",
              "        const charts = await google.colab.kernel.invokeFunction(\n",
              "            'suggestCharts', [key], {});\n",
              "      } catch (error) {\n",
              "        console.error('Error during call to suggestCharts:', error);\n",
              "      }\n",
              "      quickchartButtonEl.classList.remove('colab-df-spinner');\n",
              "      quickchartButtonEl.classList.add('colab-df-quickchart-complete');\n",
              "    }\n",
              "    (() => {\n",
              "      let quickchartButtonEl =\n",
              "        document.querySelector('#df-403b0e95-969d-4def-9356-ab1a723726d8 button');\n",
              "      quickchartButtonEl.style.display =\n",
              "        google.colab.kernel.accessAllowed ? 'block' : 'none';\n",
              "    })();\n",
              "  </script>\n",
              "</div>\n",
              "\n",
              "  <div id=\"id_e4d35309-f6bd-47b2-971e-84043b24aaeb\">\n",
              "    <style>\n",
              "      .colab-df-generate {\n",
              "        background-color: #E8F0FE;\n",
              "        border: none;\n",
              "        border-radius: 50%;\n",
              "        cursor: pointer;\n",
              "        display: none;\n",
              "        fill: #1967D2;\n",
              "        height: 32px;\n",
              "        padding: 0 0 0 0;\n",
              "        width: 32px;\n",
              "      }\n",
              "\n",
              "      .colab-df-generate:hover {\n",
              "        background-color: #E2EBFA;\n",
              "        box-shadow: 0px 1px 2px rgba(60, 64, 67, 0.3), 0px 1px 3px 1px rgba(60, 64, 67, 0.15);\n",
              "        fill: #174EA6;\n",
              "      }\n",
              "\n",
              "      [theme=dark] .colab-df-generate {\n",
              "        background-color: #3B4455;\n",
              "        fill: #D2E3FC;\n",
              "      }\n",
              "\n",
              "      [theme=dark] .colab-df-generate:hover {\n",
              "        background-color: #434B5C;\n",
              "        box-shadow: 0px 1px 3px 1px rgba(0, 0, 0, 0.15);\n",
              "        filter: drop-shadow(0px 1px 2px rgba(0, 0, 0, 0.3));\n",
              "        fill: #FFFFFF;\n",
              "      }\n",
              "    </style>\n",
              "    <button class=\"colab-df-generate\" onclick=\"generateWithVariable('df')\"\n",
              "            title=\"Generate code using this dataframe.\"\n",
              "            style=\"display:none;\">\n",
              "\n",
              "  <svg xmlns=\"http://www.w3.org/2000/svg\" height=\"24px\"viewBox=\"0 0 24 24\"\n",
              "       width=\"24px\">\n",
              "    <path d=\"M7,19H8.4L18.45,9,17,7.55,7,17.6ZM5,21V16.75L18.45,3.32a2,2,0,0,1,2.83,0l1.4,1.43a1.91,1.91,0,0,1,.58,1.4,1.91,1.91,0,0,1-.58,1.4L9.25,21ZM18.45,9,17,7.55Zm-12,3A5.31,5.31,0,0,0,4.9,8.1,5.31,5.31,0,0,0,1,6.5,5.31,5.31,0,0,0,4.9,4.9,5.31,5.31,0,0,0,6.5,1,5.31,5.31,0,0,0,8.1,4.9,5.31,5.31,0,0,0,12,6.5,5.46,5.46,0,0,0,6.5,12Z\"/>\n",
              "  </svg>\n",
              "    </button>\n",
              "    <script>\n",
              "      (() => {\n",
              "      const buttonEl =\n",
              "        document.querySelector('#id_e4d35309-f6bd-47b2-971e-84043b24aaeb button.colab-df-generate');\n",
              "      buttonEl.style.display =\n",
              "        google.colab.kernel.accessAllowed ? 'block' : 'none';\n",
              "\n",
              "      buttonEl.onclick = () => {\n",
              "        google.colab.notebook.generateWithVariable('df');\n",
              "      }\n",
              "      })();\n",
              "    </script>\n",
              "  </div>\n",
              "\n",
              "    </div>\n",
              "  </div>\n"
            ],
            "application/vnd.google.colaboratory.intrinsic+json": {
              "type": "dataframe",
              "variable_name": "df",
              "summary": "{\n  \"name\": \"df\",\n  \"rows\": 5,\n  \"fields\": [\n    {\n      \"column\": \"docA\",\n      \"properties\": {\n        \"dtype\": \"number\",\n        \"std\": 0.0,\n        \"min\": 0.25,\n        \"max\": 0.25,\n        \"num_unique_values\": 1,\n        \"samples\": [\n          0.25\n        ],\n        \"semantic_type\": \"\",\n        \"description\": \"\"\n      }\n    },\n    {\n      \"column\": \"docB\",\n      \"properties\": {\n        \"dtype\": \"number\",\n        \"std\": 0.0,\n        \"min\": 0.3333,\n        \"max\": 0.3333,\n        \"num_unique_values\": 1,\n        \"samples\": [\n          0.3333\n        ],\n        \"semantic_type\": \"\",\n        \"description\": \"\"\n      }\n    },\n    {\n      \"column\": \"docC\",\n      \"properties\": {\n        \"dtype\": \"number\",\n        \"std\": 0.0,\n        \"min\": 0.5,\n        \"max\": 0.5,\n        \"num_unique_values\": 1,\n        \"samples\": [\n          0.5\n        ],\n        \"semantic_type\": \"\",\n        \"description\": \"\"\n      }\n    }\n  ]\n}"
            }
          },
          "metadata": {},
          "execution_count": 69
        }
      ],
      "source": [
        "df"
      ]
    },
    {
      "cell_type": "code",
      "execution_count": null,
      "id": "aa77ed1e",
      "metadata": {
        "id": "aa77ed1e"
      },
      "outputs": [],
      "source": [
        "docA='Le petit chat dort'\n",
        "docB='Le chat dort'\n",
        "docC='Jean dort'"
      ]
    },
    {
      "cell_type": "code",
      "execution_count": null,
      "id": "81222996",
      "metadata": {
        "id": "81222996"
      },
      "outputs": [],
      "source": [
        "phraseA=docA.split(' ')\n",
        "phraseB=docB.split(' ')\n",
        "phraseC=docC.split(' ')"
      ]
    },
    {
      "cell_type": "code",
      "execution_count": null,
      "id": "7876f7db",
      "metadata": {
        "id": "7876f7db",
        "outputId": "c73f3b18-126b-4c56-8f66-32b749fe420f",
        "colab": {
          "base_uri": "https://localhost:8080/"
        }
      },
      "outputs": [
        {
          "output_type": "stream",
          "name": "stdout",
          "text": [
            "{' ', 'e', 't', 'r', 'i', 'd', 'h', 'p', 'o', 'a', 'c', 'L'}\n"
          ]
        }
      ],
      "source": [
        "uniqueWords = set(docA).union(set(docB))\n",
        "print(uniqueWords)"
      ]
    },
    {
      "cell_type": "code",
      "execution_count": null,
      "id": "ecffaa3f",
      "metadata": {
        "id": "ecffaa3f",
        "outputId": "55d75994-bec1-46dd-e624-ead43e5bb5bc",
        "colab": {
          "base_uri": "https://localhost:8080/"
        }
      },
      "outputs": [
        {
          "output_type": "stream",
          "name": "stdout",
          "text": [
            "The value of pi is approximately 3.142.\n"
          ]
        }
      ],
      "source": [
        "import math\n",
        "print(f'The value of pi is approximately {math.pi:.3f}.')"
      ]
    },
    {
      "cell_type": "code",
      "execution_count": null,
      "id": "158c7c13",
      "metadata": {
        "id": "158c7c13",
        "outputId": "22828ea3-5d53-49f5-809f-0111b5d3bfe5",
        "colab": {
          "base_uri": "https://localhost:8080/"
        }
      },
      "outputs": [
        {
          "output_type": "stream",
          "name": "stderr",
          "text": [
            "[nltk_data] Downloading package stopwords to /root/nltk_data...\n",
            "[nltk_data]   Package stopwords is already up-to-date!\n"
          ]
        },
        {
          "output_type": "execute_result",
          "data": {
            "text/plain": [
              "True"
            ]
          },
          "metadata": {},
          "execution_count": 74
        }
      ],
      "source": [
        "import nltk\n",
        "nltk.download('stopwords')"
      ]
    },
    {
      "cell_type": "code",
      "execution_count": null,
      "id": "adef60aa",
      "metadata": {
        "id": "adef60aa",
        "outputId": "9f157044-3635-4354-c3ff-98e0ce628ae8",
        "colab": {
          "base_uri": "https://localhost:8080/"
        }
      },
      "outputs": [
        {
          "output_type": "execute_result",
          "data": {
            "text/plain": [
              "['au',\n",
              " 'aux',\n",
              " 'avec',\n",
              " 'ce',\n",
              " 'ces',\n",
              " 'dans',\n",
              " 'de',\n",
              " 'des',\n",
              " 'du',\n",
              " 'elle',\n",
              " 'en',\n",
              " 'et',\n",
              " 'eux',\n",
              " 'il',\n",
              " 'ils',\n",
              " 'je',\n",
              " 'la',\n",
              " 'le',\n",
              " 'les',\n",
              " 'leur',\n",
              " 'lui',\n",
              " 'ma',\n",
              " 'mais',\n",
              " 'me',\n",
              " 'même',\n",
              " 'mes',\n",
              " 'moi',\n",
              " 'mon',\n",
              " 'ne',\n",
              " 'nos',\n",
              " 'notre',\n",
              " 'nous',\n",
              " 'on',\n",
              " 'ou',\n",
              " 'par',\n",
              " 'pas',\n",
              " 'pour',\n",
              " 'qu',\n",
              " 'que',\n",
              " 'qui',\n",
              " 'sa',\n",
              " 'se',\n",
              " 'ses',\n",
              " 'son',\n",
              " 'sur',\n",
              " 'ta',\n",
              " 'te',\n",
              " 'tes',\n",
              " 'toi',\n",
              " 'ton',\n",
              " 'tu',\n",
              " 'un',\n",
              " 'une',\n",
              " 'vos',\n",
              " 'votre',\n",
              " 'vous',\n",
              " 'c',\n",
              " 'd',\n",
              " 'j',\n",
              " 'l',\n",
              " 'à',\n",
              " 'm',\n",
              " 'n',\n",
              " 's',\n",
              " 't',\n",
              " 'y',\n",
              " 'été',\n",
              " 'étée',\n",
              " 'étées',\n",
              " 'étés',\n",
              " 'étant',\n",
              " 'étante',\n",
              " 'étants',\n",
              " 'étantes',\n",
              " 'suis',\n",
              " 'es',\n",
              " 'est',\n",
              " 'sommes',\n",
              " 'êtes',\n",
              " 'sont',\n",
              " 'serai',\n",
              " 'seras',\n",
              " 'sera',\n",
              " 'serons',\n",
              " 'serez',\n",
              " 'seront',\n",
              " 'serais',\n",
              " 'serait',\n",
              " 'serions',\n",
              " 'seriez',\n",
              " 'seraient',\n",
              " 'étais',\n",
              " 'était',\n",
              " 'étions',\n",
              " 'étiez',\n",
              " 'étaient',\n",
              " 'fus',\n",
              " 'fut',\n",
              " 'fûmes',\n",
              " 'fûtes',\n",
              " 'furent',\n",
              " 'sois',\n",
              " 'soit',\n",
              " 'soyons',\n",
              " 'soyez',\n",
              " 'soient',\n",
              " 'fusse',\n",
              " 'fusses',\n",
              " 'fût',\n",
              " 'fussions',\n",
              " 'fussiez',\n",
              " 'fussent',\n",
              " 'ayant',\n",
              " 'ayante',\n",
              " 'ayantes',\n",
              " 'ayants',\n",
              " 'eu',\n",
              " 'eue',\n",
              " 'eues',\n",
              " 'eus',\n",
              " 'ai',\n",
              " 'as',\n",
              " 'avons',\n",
              " 'avez',\n",
              " 'ont',\n",
              " 'aurai',\n",
              " 'auras',\n",
              " 'aura',\n",
              " 'aurons',\n",
              " 'aurez',\n",
              " 'auront',\n",
              " 'aurais',\n",
              " 'aurait',\n",
              " 'aurions',\n",
              " 'auriez',\n",
              " 'auraient',\n",
              " 'avais',\n",
              " 'avait',\n",
              " 'avions',\n",
              " 'aviez',\n",
              " 'avaient',\n",
              " 'eut',\n",
              " 'eûmes',\n",
              " 'eûtes',\n",
              " 'eurent',\n",
              " 'aie',\n",
              " 'aies',\n",
              " 'ait',\n",
              " 'ayons',\n",
              " 'ayez',\n",
              " 'aient',\n",
              " 'eusse',\n",
              " 'eusses',\n",
              " 'eût',\n",
              " 'eussions',\n",
              " 'eussiez',\n",
              " 'eussent']"
            ]
          },
          "metadata": {},
          "execution_count": 75
        }
      ],
      "source": [
        "from nltk.corpus import stopwords\n",
        "stopwords.words('french')"
      ]
    },
    {
      "cell_type": "markdown",
      "source": [
        "# **Exercice 6 : Calculer les TF et IDF**"
      ],
      "metadata": {
        "id": "242TP8hN44Ky"
      },
      "id": "242TP8hN44Ky"
    },
    {
      "cell_type": "code",
      "execution_count": null,
      "id": "b231c981",
      "metadata": {
        "id": "b231c981",
        "colab": {
          "base_uri": "https://localhost:8080/"
        },
        "outputId": "8251a93e-da32-4a8b-dc94-c599c098eada"
      },
      "outputs": [
        {
          "output_type": "stream",
          "name": "stdout",
          "text": [
            "TF-IDF pour docA: {'Le': 0.0440225, 'petit': 0.11928, 'chat': 0.0440225, 'dort': 0.0}\n",
            "TF-IDF pour docB: {'Le': 0.058690796999999996, 'chat': 0.058690796999999996, 'dort': 0.0}\n",
            "TF-IDF pour docC: {'Jean': 0.23856, 'dort': 0.0}\n"
          ]
        }
      ],
      "source": [
        "import math\n",
        "\n",
        "# Exemple de données TF pour chaque document\n",
        "allDocs = {\n",
        "    \"docA\": {\"Le\": 0.25, \"petit\": 0.25, \"chat\": 0.25, \"dort\": 0.25},\n",
        "    \"docB\": {\"Le\": 0.3333, \"chat\": 0.3333, \"dort\": 0.3333},\n",
        "    \"docC\": {\"Jean\": 0.5, \"dort\": 0.5}\n",
        "}\n",
        "\n",
        "# Exemple de données IDF pour chaque terme\n",
        "mot2idf = {\n",
        "    \"Le\": 0.17609,\n",
        "    \"petit\": 0.47712,\n",
        "    \"Jean\": 0.47712,\n",
        "    \"chat\": 0.17609,\n",
        "    \"dort\": 0.0\n",
        "}\n",
        "\n",
        "def calculer_tf_idf(tf, idf):\n",
        "    tf_idf = {}\n",
        "    for terme, valeur_tf in tf.items():\n",
        "        if terme in idf:\n",
        "            tf_idf[terme] = valeur_tf * idf[terme]\n",
        "        else:\n",
        "            tf_idf[terme] = 0.0  # En cas où IDF n'est pas défini pour un terme (ce qui ne devrait pas arriver ici)\n",
        "    return tf_idf\n",
        "\n",
        "# Calculer TF-IDF pour chaque document\n",
        "for doc, tf in allDocs.items():\n",
        "    tf_idf = calculer_tf_idf(tf, mot2idf)\n",
        "    print(f\"TF-IDF pour {doc}: {tf_idf}\")\n"
      ]
    },
    {
      "cell_type": "code",
      "source": [
        "import math\n",
        "\n",
        "# Exemple de vecteurs TF-IDF pour deux documents\n",
        "docA = {\"Le\": 0.25, \"petit\": 0.25, \"chat\": 0.25, \"dort\": 0.25}\n",
        "docB = {\"Le\": 0.3333, \"chat\": 0.3333, \"dort\": 0.3333}\n",
        "\n",
        "def calculer_produit_scalaire(doc1, doc2):\n",
        "    produit_scalaire = 0.0\n",
        "    for terme in doc1:\n",
        "        if terme in doc2:\n",
        "            produit_scalaire += doc1[terme] * doc2[terme]\n",
        "    return produit_scalaire\n",
        "\n",
        "def calculer_norme(vecteur):\n",
        "    norme = math.sqrt(sum(value ** 2 for value in vecteur.values()))\n",
        "    return norme if norme != 0 else 1  # Pour éviter une division par zéro si le vecteur est vide\n",
        "\n",
        "def calculer_similarite_cosinus(doc1, doc2):\n",
        "    produit_scalaire = calculer_produit_scalaire(doc1, doc2)\n",
        "    norme_doc1 = calculer_norme(doc1)\n",
        "    norme_doc2 = calculer_norme(doc2)\n",
        "\n",
        "    if norme_doc1 == 0 or norme_doc2 == 0:\n",
        "        return 0.0\n",
        "\n",
        "    similarite_cosinus = produit_scalaire / (norme_doc1 * norme_doc2)\n",
        "    return similarite_cosinus\n",
        "\n",
        "# Calculer la similarité cosinus entre docA et docB\n",
        "sim_cosinus = calculer_similarite_cosinus(docA, docB)\n",
        "print(f\"Taux de similarité cosinus entre docA et docB : {sim_cosinus}\")\n"
      ],
      "metadata": {
        "colab": {
          "base_uri": "https://localhost:8080/"
        },
        "id": "WtdnNrUdyzCY",
        "outputId": "9f933189-83a2-4c1a-a21d-094a92a319ae"
      },
      "id": "WtdnNrUdyzCY",
      "execution_count": null,
      "outputs": [
        {
          "output_type": "stream",
          "name": "stdout",
          "text": [
            "Taux de similarité cosinus entre docA et docB : 0.8660254037844387\n"
          ]
        }
      ]
    },
    {
      "cell_type": "code",
      "source": [
        "print(\"Clés dans documents_trouves :\", documents_trouves.keys())\n",
        "print(\"Clés dans index_inverse :\", index_inverse.keys())"
      ],
      "metadata": {
        "colab": {
          "base_uri": "https://localhost:8080/"
        },
        "id": "Nc-3CRrM0kBH",
        "outputId": "f31de873-9c8e-4f0a-8560-1f12f983f48f"
      },
      "id": "Nc-3CRrM0kBH",
      "execution_count": null,
      "outputs": [
        {
          "output_type": "stream",
          "name": "stdout",
          "text": [
            "Clés dans documents_trouves : dict_keys(['docA', 'docB', 'docC'])\n",
            "Clés dans index_inverse : dict_keys(['/content/drive/MyDrive/Index/europarl/europarl/fr/ep-01-06-14-fr.txt', '/content/drive/MyDrive/Index/europarl/europarl/fr/ep-02-07-01-fr.txt', '/content/drive/MyDrive/Index/europarl/europarl/fr/ep-02-04-09-fr.txt', '/content/drive/MyDrive/Index/europarl/europarl/fr/ep-03-10-23-fr.txt', '/content/drive/MyDrive/Index/europarl/europarl/fr/ep-05-09-06-fr.txt', '/content/drive/MyDrive/Index/europarl/europarl/fr/ep-02-09-03-fr.txt', '/content/drive/MyDrive/Index/europarl/europarl/fr/ep-03-06-03-fr.txt', '/content/drive/MyDrive/Index/europarl/europarl/fr/ep-00-07-04-fr.txt', '/content/drive/MyDrive/Index/europarl/europarl/fr/ep-00-01-20-fr.txt', '/content/drive/MyDrive/Index/europarl/europarl/fr/ep-04-03-30-fr.txt', '/content/drive/MyDrive/Index/europarl/europarl/fr/ep-05-07-06-fr.txt', '/content/drive/MyDrive/Index/europarl/europarl/fr/ep-02-07-03-fr.txt', '/content/drive/MyDrive/Index/europarl/europarl/fr/ep-00-09-05-fr.txt', '/content/drive/MyDrive/Index/europarl/europarl/fr/ep-01-02-15-fr.txt', '/content/drive/MyDrive/Index/europarl/europarl/fr/ep-05-07-05-fr.txt', '/content/drive/MyDrive/Index/europarl/europarl/fr/ep-02-12-17-fr.txt', '/content/drive/MyDrive/Index/europarl/europarl/fr/ep-04-02-11-fr.txt', '/content/drive/MyDrive/Index/europarl/europarl/fr/ep-03-12-04-fr.txt', '/content/drive/MyDrive/Index/europarl/europarl/fr/ep-04-12-16-fr.txt', '/content/drive/MyDrive/Index/europarl/europarl/fr/ep-01-10-25-fr.txt', '/content/drive/MyDrive/Index/europarl/europarl/fr/ep-03-12-18-fr.txt', '/content/drive/MyDrive/Index/europarl/europarl/fr/ep-00-11-14-fr.txt', '/content/drive/MyDrive/Index/europarl/europarl/fr/ep-00-05-03-fr.txt', '/content/drive/MyDrive/Index/europarl/europarl/fr/ep-01-07-02-fr.txt', '/content/drive/MyDrive/Index/europarl/europarl/fr/ep-01-11-13-fr.txt', '/content/drive/MyDrive/Index/europarl/europarl/fr/ep-02-03-20-fr.txt', '/content/drive/MyDrive/Index/europarl/europarl/fr/ep-02-11-18-fr.txt', '/content/drive/MyDrive/Index/europarl/europarl/fr/ep-03-06-04-fr.txt', '/content/drive/MyDrive/Index/europarl/europarl/fr/ep-03-05-13-fr.txt', '/content/drive/MyDrive/Index/europarl/europarl/fr/ep-02-05-16-fr.txt', '/content/drive/MyDrive/Index/europarl/europarl/fr/ep-02-12-05-fr.txt', '/content/drive/MyDrive/Index/europarl/europarl/fr/ep-02-12-04-fr.txt', '/content/drive/MyDrive/Index/europarl/europarl/fr/ep-05-12-15-fr.txt', '/content/drive/MyDrive/Index/europarl/europarl/fr/ep-04-03-31-fr.txt', '/content/drive/MyDrive/Index/europarl/europarl/fr/ep-05-12-14-fr.txt', '/content/drive/MyDrive/Index/europarl/europarl/fr/ep-03-12-03-fr.txt', '/content/drive/MyDrive/Index/europarl/europarl/fr/ep-01-09-05-fr.txt', '/content/drive/MyDrive/Index/europarl/europarl/fr/ep-01-10-23-fr.txt', '/content/drive/MyDrive/Index/europarl/europarl/fr/ep-02-12-19-fr.txt', '/content/drive/MyDrive/Index/europarl/europarl/fr/ep-02-04-25-fr.txt', '/content/drive/MyDrive/Index/europarl/europarl/fr/ep-03-03-12-fr.txt', '/content/drive/MyDrive/Index/europarl/europarl/fr/ep-00-03-14-fr.txt', '/content/drive/MyDrive/Index/europarl/europarl/fr/ep-05-01-12-fr.txt', '/content/drive/MyDrive/Index/europarl/europarl/fr/ep-03-12-17-fr.txt', '/content/drive/MyDrive/Index/europarl/europarl/fr/ep-04-01-12-fr.txt', '/content/drive/MyDrive/Index/europarl/europarl/fr/ep-04-03-09-fr.txt', '/content/drive/MyDrive/Index/europarl/europarl/fr/ep-02-07-02-fr.txt', '/content/drive/MyDrive/Index/europarl/europarl/fr/ep-01-06-13-fr.txt', '/content/drive/MyDrive/Index/europarl/europarl/fr/ep-04-04-01-fr.txt', '/content/drive/MyDrive/Index/europarl/europarl/fr/ep-04-09-15-fr.txt', '/content/drive/MyDrive/Index/europarl/europarl/fr/ep-02-05-29-fr.txt', '/content/drive/MyDrive/Index/europarl/europarl/fr/ep-00-04-14-fr.txt', '/content/drive/MyDrive/Index/europarl/europarl/fr/ep-03-01-16-fr.txt', '/content/drive/MyDrive/Index/europarl/europarl/fr/ep-05-12-13-fr.txt', '/content/drive/MyDrive/Index/europarl/europarl/fr/ep-05-05-26-fr.txt', '/content/drive/MyDrive/Index/europarl/europarl/fr/ep-03-06-19-fr.txt', '/content/drive/MyDrive/Index/europarl/europarl/fr/ep-05-09-27-fr.txt', '/content/drive/MyDrive/Index/europarl/europarl/fr/ep-05-02-22-fr.txt', '/content/drive/MyDrive/Index/europarl/europarl/fr/ep-02-10-09-fr.txt', '/content/drive/MyDrive/Index/europarl/europarl/fr/ep-03-01-29-fr.txt', '/content/drive/MyDrive/Index/europarl/europarl/fr/ep-03-11-19-fr.txt', '/content/drive/MyDrive/Index/europarl/europarl/fr/ep-01-02-12-fr.txt', '/content/drive/MyDrive/Index/europarl/europarl/fr/ep-02-03-12-fr.txt', '/content/drive/MyDrive/Index/europarl/europarl/fr/ep-03-09-03-fr.txt', '/content/drive/MyDrive/Index/europarl/europarl/fr/ep-01-01-16-fr.txt', '/content/drive/MyDrive/Index/europarl/europarl/fr/ep-01-02-28-fr.txt', '/content/drive/MyDrive/Index/europarl/europarl/fr/ep-02-11-20-fr.txt', '/content/drive/MyDrive/Index/europarl/europarl/fr/ep-01-12-11-fr.txt', '/content/drive/MyDrive/Index/europarl/europarl/fr/ep-02-06-12-fr.txt', '/content/drive/MyDrive/Index/europarl/europarl/fr/ep-01-07-04-fr.txt', '/content/drive/MyDrive/Index/europarl/europarl/fr/ep-05-09-26-fr.txt', '/content/drive/MyDrive/Index/europarl/europarl/fr/ep-03-09-02-fr.txt', '/content/drive/MyDrive/Index/europarl/europarl/fr/ep-05-04-14-fr.txt', '/content/drive/MyDrive/Index/europarl/europarl/fr/ep-03-03-26-fr.txt', '/content/drive/MyDrive/Index/europarl/europarl/fr/ep-00-01-21-fr.txt', '/content/drive/MyDrive/Index/europarl/europarl/fr/ep-02-09-24-fr.txt', '/content/drive/MyDrive/Index/europarl/europarl/fr/ep-01-12-13-fr.txt', '/content/drive/MyDrive/Index/europarl/europarl/fr/ep-04-02-10-fr.txt', '/content/drive/MyDrive/Index/europarl/europarl/fr/ep-00-05-19-fr.txt', '/content/drive/MyDrive/Index/europarl/europarl/fr/ep-04-01-13-fr.txt', '/content/drive/MyDrive/Index/europarl/europarl/fr/ep-02-10-22-fr.txt', '/content/drive/MyDrive/Index/europarl/europarl/fr/ep-03-10-08-fr.txt', '/content/drive/MyDrive/Index/europarl/europarl/fr/ep-03-07-02-fr.txt', '/content/drive/MyDrive/Index/europarl/europarl/fr/ep-05-10-25-fr.txt', '/content/drive/MyDrive/Index/europarl/europarl/fr/ep-05-11-30-fr.txt', '/content/drive/MyDrive/Index/europarl/europarl/fr/ep-01-07-05-fr.txt', '/content/drive/MyDrive/Index/europarl/europarl/fr/ep-05-06-23-fr.txt', '/content/drive/MyDrive/Index/europarl/europarl/fr/ep-01-04-05-fr.txt', '/content/drive/MyDrive/Index/europarl/europarl/fr/ep-03-09-22-fr.txt', '/content/drive/MyDrive/Index/europarl/europarl/fr/ep-00-11-30-fr.txt', '/content/drive/MyDrive/Index/europarl/europarl/fr/ep-01-04-04-fr.txt', '/content/drive/MyDrive/Index/europarl/europarl/fr/ep-01-05-16-fr.txt', '/content/drive/MyDrive/Index/europarl/europarl/fr/ep-00-10-27-fr.txt', '/content/drive/MyDrive/Index/europarl/europarl/fr/ep-02-01-17-fr.txt', '/content/drive/MyDrive/Index/europarl/europarl/fr/ep-04-01-14-fr.txt', '/content/drive/MyDrive/Index/europarl/europarl/fr/ep-02-09-25-fr.txt', '/content/drive/MyDrive/Index/europarl/europarl/fr/ep-03-03-10-fr.txt', '/content/drive/MyDrive/Index/europarl/europarl/fr/ep-05-11-16-fr.txt', '/content/drive/MyDrive/Index/europarl/europarl/fr/ep-05-06-09-fr.txt', '/content/drive/MyDrive/Index/europarl/europarl/fr/ep-00-12-12-fr.txt', '/content/drive/MyDrive/Index/europarl/europarl/fr/ep-05-04-11-fr.txt', '/content/drive/MyDrive/Index/europarl/europarl/fr/ep-01-03-14-fr.txt', '/content/drive/MyDrive/Index/europarl/europarl/fr/ep-02-05-15-fr.txt', '/content/drive/MyDrive/Index/europarl/europarl/fr/ep-01-09-20-fr.txt', '/content/drive/MyDrive/Index/europarl/europarl/fr/ep-04-04-21-fr.txt', '/content/drive/MyDrive/Index/europarl/europarl/fr/ep-00-11-29-fr.txt', '/content/drive/MyDrive/Index/europarl/europarl/fr/ep-05-06-06-fr.txt', '/content/drive/MyDrive/Index/europarl/europarl/fr/ep-03-02-11-fr.txt', '/content/drive/MyDrive/Index/europarl/europarl/fr/ep-02-03-13-fr.txt', '/content/drive/MyDrive/Index/europarl/europarl/fr/ep-02-09-02-fr.txt', '/content/drive/MyDrive/Index/europarl/europarl/fr/ep-00-01-19-fr.txt', '/content/drive/MyDrive/Index/europarl/europarl/fr/ep-03-11-06-fr.txt', '/content/drive/MyDrive/Index/europarl/europarl/fr/ep-03-03-13-fr.txt', '/content/drive/MyDrive/Index/europarl/europarl/fr/ep-05-11-15-fr.txt', '/content/drive/MyDrive/Index/europarl/europarl/fr/ep-03-07-03-fr.txt', '/content/drive/MyDrive/Index/europarl/europarl/fr/ep-03-05-15-fr.txt', '/content/drive/MyDrive/Index/europarl/europarl/fr/ep-04-12-14-fr.txt', '/content/drive/MyDrive/Index/europarl/europarl/fr/ep-02-10-24-fr.txt', '/content/drive/MyDrive/Index/europarl/europarl/fr/ep-02-12-18-fr.txt', '/content/drive/MyDrive/Index/europarl/europarl/fr/ep-03-04-09-fr.txt', '/content/drive/MyDrive/Index/europarl/europarl/fr/ep-02-12-16-fr.txt', '/content/drive/MyDrive/Index/europarl/europarl/fr/ep-01-11-15-fr.txt', '/content/drive/MyDrive/Index/europarl/europarl/fr/ep-03-04-10-fr.txt', '/content/drive/MyDrive/Index/europarl/europarl/fr/ep-05-10-26-fr.txt', '/content/drive/MyDrive/Index/europarl/europarl/fr/ep-04-11-18-fr.txt', '/content/drive/MyDrive/Index/europarl/europarl/fr/ep-05-05-09-fr.txt', '/content/drive/MyDrive/Index/europarl/europarl/fr/ep-03-09-23-fr.txt', '/content/drive/MyDrive/Index/europarl/europarl/fr/ep-03-11-05-fr.txt', '/content/drive/MyDrive/Index/europarl/europarl/fr/ep-05-03-08-fr.txt', '/content/drive/MyDrive/Index/europarl/europarl/fr/ep-01-09-04-fr.txt', '/content/drive/MyDrive/Index/europarl/europarl/fr/ep-00-10-24-fr.txt', '/content/drive/MyDrive/Index/europarl/europarl/fr/ep-00-10-05-fr.txt', '/content/drive/MyDrive/Index/europarl/europarl/fr/ep-01-11-14-fr.txt', '/content/drive/MyDrive/Index/europarl/europarl/fr/ep-05-09-28-fr.txt', '/content/drive/MyDrive/Index/europarl/europarl/fr/ep-05-06-07-fr.txt', '/content/drive/MyDrive/Index/europarl/europarl/fr/ep-00-12-11-fr.txt', '/content/drive/MyDrive/Index/europarl/europarl/fr/ep-05-04-12-fr.txt', '/content/drive/MyDrive/Index/europarl/europarl/fr/ep-00-10-03-fr.txt', '/content/drive/MyDrive/Index/europarl/europarl/fr/ep-01-01-15-fr.txt', '/content/drive/MyDrive/Index/europarl/europarl/fr/ep-05-10-24-fr.txt', '/content/drive/MyDrive/Index/europarl/europarl/fr/ep-03-09-24-fr.txt', '/content/drive/MyDrive/Index/europarl/europarl/fr/ep-00-01-17-fr.txt', '/content/drive/MyDrive/Index/europarl/europarl/fr/ep-04-09-14-fr.txt', '/content/drive/MyDrive/Index/europarl/europarl/fr/ep-05-10-27-fr.txt', '/content/drive/MyDrive/Index/europarl/europarl/fr/ep-00-02-17-fr.txt', '/content/drive/MyDrive/Index/europarl/europarl/fr/ep-02-02-06-fr.txt', '/content/drive/MyDrive/Index/europarl/europarl/fr/ep-02-10-23-fr.txt', '/content/drive/MyDrive/Index/europarl/europarl/fr/ep-01-10-02-fr.txt', '/content/drive/MyDrive/Index/europarl/europarl/fr/ep-04-04-20-fr.txt', '/content/drive/MyDrive/Index/europarl/europarl/fr/ep-03-07-01-fr.txt', '/content/drive/MyDrive/Index/europarl/europarl/fr/ep-00-10-26-fr.txt', '/content/drive/MyDrive/Index/europarl/europarl/fr/ep-00-03-13-fr.txt', '/content/drive/MyDrive/Index/europarl/europarl/fr/ep-03-03-27-fr.txt', '/content/drive/MyDrive/Index/europarl/europarl/fr/ep-02-07-04-fr.txt', '/content/drive/MyDrive/Index/europarl/europarl/fr/ep-05-02-24-fr.txt', '/content/drive/MyDrive/Index/europarl/europarl/fr/ep-00-05-16-fr.txt', '/content/drive/MyDrive/Index/europarl/europarl/fr/ep-00-05-17-fr.txt', '/content/drive/MyDrive/Index/europarl/europarl/fr/ep-01-03-12-fr.txt', '/content/drive/MyDrive/Index/europarl/europarl/fr/ep-05-12-12-fr.txt', '/content/drive/MyDrive/Index/europarl/europarl/fr/ep-02-02-07-fr.txt', '/content/drive/MyDrive/Index/europarl/europarl/fr/ep-00-04-11-fr.txt', '/content/drive/MyDrive/Index/europarl/europarl/fr/ep-00-03-16-fr.txt', '/content/drive/MyDrive/Index/europarl/europarl/fr/ep-04-01-28-fr.txt', '/content/drive/MyDrive/Index/europarl/europarl/fr/ep-01-01-17-fr.txt', '/content/drive/MyDrive/Index/europarl/europarl/fr/ep-01-07-03-fr.txt', '/content/drive/MyDrive/Index/europarl/europarl/fr/ep-02-02-05-fr.txt', '/content/drive/MyDrive/Index/europarl/europarl/fr/ep-02-05-14-fr.txt', '/content/drive/MyDrive/Index/europarl/europarl/fr/ep-05-09-08-fr.txt', '/content/drive/MyDrive/Index/europarl/europarl/fr/ep-05-06-08-fr.txt', '/content/drive/MyDrive/Index/europarl/europarl/fr/ep-02-06-10-fr.txt', '/content/drive/MyDrive/Index/europarl/europarl/fr/ep-01-12-12-fr.txt', '/content/drive/MyDrive/Index/europarl/europarl/fr/ep-00-12-14-fr.txt', '/content/drive/MyDrive/Index/europarl/europarl/fr/ep-03-03-11-fr.txt', '/content/drive/MyDrive/Index/europarl/europarl/fr/ep-02-11-06-fr.txt', '/content/drive/MyDrive/Index/europarl/europarl/fr/ep-05-09-29-fr.txt', '/content/drive/MyDrive/Index/europarl/europarl/fr/ep-01-09-03-fr.txt', '/content/drive/MyDrive/Index/europarl/europarl/fr/ep-02-02-27-fr.txt', '/content/drive/MyDrive/Index/europarl/europarl/fr/ep-03-05-12-fr.txt', '/content/drive/MyDrive/Index/europarl/europarl/fr/ep-00-07-07-fr.txt', '/content/drive/MyDrive/Index/europarl/europarl/fr/ep-02-05-30-fr.txt', '/content/drive/MyDrive/Index/europarl/europarl/fr/ep-03-01-14-fr.txt', '/content/drive/MyDrive/Index/europarl/europarl/fr/ep-01-03-01-fr.txt', '/content/drive/MyDrive/Index/europarl/europarl/fr/ep-00-01-18-fr.txt', '/content/drive/MyDrive/Index/europarl/europarl/fr/ep-01-02-13-fr.txt', '/content/drive/MyDrive/Index/europarl/europarl/fr/ep-00-10-25-fr.txt', '/content/drive/MyDrive/Index/europarl/europarl/fr/ep-05-03-09-fr.txt', '/content/drive/MyDrive/Index/europarl/europarl/fr/ep-00-10-02-fr.txt', '/content/drive/MyDrive/Index/europarl/europarl/fr/ep-03-01-15-fr.txt', '/content/drive/MyDrive/Index/europarl/europarl/fr/ep-00-10-04-fr.txt', '/content/drive/MyDrive/Index/europarl/europarl/fr/ep-04-10-13-fr.txt', '/content/drive/MyDrive/Index/europarl/europarl/fr/ep-01-05-30-fr.txt', '/content/drive/MyDrive/Index/europarl/europarl/fr/ep-05-11-14-fr.txt', '/content/drive/MyDrive/Index/europarl/europarl/fr/ep-02-06-11-fr.txt', '/content/drive/MyDrive/Index/europarl/europarl/fr/ep-01-06-12-fr.txt', '/content/drive/MyDrive/Index/europarl/europarl/fr/ep-05-02-23-fr.txt', '/content/drive/MyDrive/Index/europarl/europarl/fr/ep-03-06-02-fr.txt', '/content/drive/MyDrive/Index/europarl/europarl/fr/ep-03-10-20-fr.txt', '/content/drive/MyDrive/Index/europarl/europarl/fr/ep-02-11-21-fr.txt', '/content/drive/MyDrive/Index/europarl/europarl/fr/ep-03-06-05-fr.txt', '/content/drive/MyDrive/Index/europarl/europarl/fr/ep-03-11-18-fr.txt', '/content/drive/MyDrive/Index/europarl/europarl/fr/ep-00-11-15-fr.txt', '/content/drive/MyDrive/Index/europarl/europarl/fr/ep-05-11-17-fr.txt', '/content/drive/MyDrive/Index/europarl/europarl/fr/ep-03-12-16-fr.txt', '/content/drive/MyDrive/Index/europarl/europarl/fr/ep-03-06-18-fr.txt', '/content/drive/MyDrive/Index/europarl/europarl/fr/ep-01-09-19-fr.txt', '/content/drive/MyDrive/Index/europarl/europarl/fr/ep-00-02-15-fr.txt', '/content/drive/MyDrive/Index/europarl/europarl/fr/ep-02-06-13-fr.txt', '/content/drive/MyDrive/Index/europarl/europarl/fr/ep-00-03-29-fr.txt', '/content/drive/MyDrive/Index/europarl/europarl/fr/ep-00-02-16-fr.txt', '/content/drive/MyDrive/Index/europarl/europarl/fr/ep-00-09-06-fr.txt', '/content/drive/MyDrive/Index/europarl/europarl/fr/ep-02-01-16-fr.txt', '/content/drive/MyDrive/Index/europarl/europarl/fr/ep-01-09-06-fr.txt', '/content/drive/MyDrive/Index/europarl/europarl/fr/ep-03-10-21-fr.txt', '/content/drive/MyDrive/Index/europarl/europarl/fr/ep-03-01-13-fr.txt', '/content/drive/MyDrive/Index/europarl/europarl/fr/ep-01-01-31-fr.txt', '/content/drive/MyDrive/Index/europarl/europarl/fr/ep-04-10-25-fr.txt', '/content/drive/MyDrive/Index/europarl/europarl/fr/ep-02-03-14-fr.txt', '/content/drive/MyDrive/Index/europarl/europarl/fr/ep-05-09-05-fr.txt', '/content/drive/MyDrive/Index/europarl/europarl/fr/ep-01-04-03-fr.txt', '/content/drive/MyDrive/Index/europarl/europarl/fr/ep-00-09-20-fr.txt', '/content/drive/MyDrive/Index/europarl/europarl/fr/ep-00-03-02-fr.txt', '/content/drive/MyDrive/Index/europarl/europarl/fr/ep-00-06-13-fr.txt', '/content/drive/MyDrive/Index/europarl/europarl/fr/ep-05-09-07-fr.txt', '/content/drive/MyDrive/Index/europarl/europarl/fr/ep-00-11-13-fr.txt', '/content/drive/MyDrive/Index/europarl/europarl/fr/ep-03-04-08-fr.txt', '/content/drive/MyDrive/Index/europarl/europarl/fr/ep-01-02-14-fr.txt', '/content/drive/MyDrive/Index/europarl/europarl/fr/ep-03-02-12-fr.txt', '/content/drive/MyDrive/Index/europarl/europarl/fr/ep-03-01-30-fr.txt', '/content/drive/MyDrive/Index/europarl/europarl/fr/ep-00-03-30-fr.txt', '/content/drive/MyDrive/Index/europarl/europarl/fr/ep-04-03-29-fr.txt', '/content/drive/MyDrive/Index/europarl/europarl/fr/ep-04-10-14-fr.txt', '/content/drive/MyDrive/Index/europarl/europarl/fr/ep-00-05-15-fr.txt', '/content/drive/MyDrive/Index/europarl/europarl/fr/ep-00-04-12-fr.txt', '/content/drive/MyDrive/Index/europarl/europarl/fr/ep-02-04-24-fr.txt', '/content/drive/MyDrive/Index/europarl/europarl/fr/ep-04-10-26-fr.txt', '/content/drive/MyDrive/Index/europarl/europarl/fr/ep-05-04-13-fr.txt', '/content/drive/MyDrive/Index/europarl/europarl/fr/ep-05-02-21-fr.txt', '/content/drive/MyDrive/Index/europarl/europarl/fr/ep-00-03-01-fr.txt', '/content/drive/MyDrive/Index/europarl/europarl/fr/ep-00-06-14-fr.txt', '/content/drive/MyDrive/Index/europarl/europarl/fr/ep-04-03-10-fr.txt', '/content/drive/MyDrive/Index/europarl/europarl/fr/ep-01-02-01-fr.txt', '/content/drive/MyDrive/Index/europarl/europarl/fr/ep-05-10-13-fr.txt', '/content/drive/MyDrive/Index/europarl/europarl/fr/ep-03-10-09-fr.txt', '/content/drive/MyDrive/Index/europarl/europarl/fr/ep-05-01-11-fr.txt', '/content/drive/MyDrive/Index/europarl/europarl/fr/ep-03-06-30-fr.txt', '/content/drive/MyDrive/Index/europarl/europarl/fr/ep-02-09-26-fr.txt', '/content/drive/MyDrive/Index/europarl/europarl/fr/ep-02-09-23-fr.txt', '/content/drive/MyDrive/Index/europarl/europarl/fr/ep-00-02-02-fr.txt', '/content/drive/MyDrive/Index/europarl/europarl/fr/ep-01-05-02-fr.txt', '/content/drive/MyDrive/Index/europarl/europarl/fr/ep-02-09-05-fr.txt', '/content/drive/MyDrive/Index/europarl/europarl/fr/ep-01-03-15-fr.txt', '/content/drive/MyDrive/Index/europarl/europarl/fr/ep-01-12-17-fr.txt', '/content/drive/MyDrive/Index/europarl/europarl/fr/ep-00-12-15-fr.txt', '/content/drive/MyDrive/Index/europarl/europarl/fr/ep-01-10-04-fr.txt', '/content/drive/MyDrive/Index/europarl/europarl/fr/ep-03-02-13-fr.txt', '/content/drive/MyDrive/Index/europarl/europarl/fr/ep-04-07-20-fr.txt', '/content/drive/MyDrive/Index/europarl/europarl/fr/ep-00-09-04-fr.txt', '/content/drive/MyDrive/Index/europarl/europarl/fr/ep-00-07-03-fr.txt', '/content/drive/MyDrive/Index/europarl/europarl/fr/ep-01-10-01-fr.txt', '/content/drive/MyDrive/Index/europarl/europarl/fr/ep-00-04-10-fr.txt', '/content/drive/MyDrive/Index/europarl/europarl/fr/ep-01-06-11-fr.txt', '/content/drive/MyDrive/Index/europarl/europarl/fr/ep-00-06-16-fr.txt', '/content/drive/MyDrive/Index/europarl/europarl/fr/ep-00-09-08-fr.txt', '/content/drive/MyDrive/Index/europarl/europarl/fr/ep-02-01-15-fr.txt', '/content/drive/MyDrive/Index/europarl/europarl/fr/ep-00-11-16-fr.txt', '/content/drive/MyDrive/Index/europarl/europarl/fr/ep-01-05-31-fr.txt', '/content/drive/MyDrive/Index/europarl/europarl/fr/ep-03-03-20-fr.txt', '/content/drive/MyDrive/Index/europarl/europarl/fr/ep-00-12-13-fr.txt', '/content/drive/MyDrive/Index/europarl/europarl/fr/ep-01-10-03-fr.txt', '/content/drive/MyDrive/Index/europarl/europarl/fr/ep-01-03-13-fr.txt', '/content/drive/MyDrive/Index/europarl/europarl/fr/ep-00-10-06-fr.txt', '/content/drive/MyDrive/Index/europarl/europarl/fr/ep-00-02-18-fr.txt', '/content/drive/MyDrive/Index/europarl/europarl/fr/ep-00-09-07-fr.txt', '/content/drive/MyDrive/Index/europarl/europarl/fr/ep-01-09-12-fr.txt', '/content/drive/MyDrive/Index/europarl/europarl/fr/ep-00-02-14-fr.txt', '/content/drive/MyDrive/Index/europarl/europarl/fr/ep-03-09-04-fr.txt', '/content/drive/MyDrive/Index/europarl/europarl/fr/ep-03-04-07-fr.txt', '/content/drive/MyDrive/Index/europarl/europarl/fr/ep-00-11-17-fr.txt', '/content/drive/MyDrive/Index/europarl/europarl/fr/ep-02-04-11-fr.txt', '/content/drive/MyDrive/Index/europarl/europarl/fr/ep-00-05-18-fr.txt', '/content/drive/MyDrive/Index/europarl/europarl/fr/ep-03-09-01-fr.txt', '/content/drive/MyDrive/Index/europarl/europarl/fr/ep-03-02-10-fr.txt', '/content/drive/MyDrive/Index/europarl/europarl/fr/ep-02-02-04-fr.txt', '/content/drive/MyDrive/Index/europarl/europarl/fr/ep-02-02-28-fr.txt', '/content/drive/MyDrive/Index/europarl/europarl/fr/ep-00-07-05-fr.txt', '/content/drive/MyDrive/Index/europarl/europarl/fr/ep-01-05-17-fr.txt', '/content/drive/MyDrive/Index/europarl/europarl/fr/ep-01-11-12-fr.txt', '/content/drive/MyDrive/Index/europarl/europarl/fr/ep-01-05-03-fr.txt', '/content/drive/MyDrive/Index/europarl/europarl/fr/ep-03-09-25-fr.txt', '/content/drive/MyDrive/Index/europarl/europarl/fr/ep-02-04-10-fr.txt', '/content/drive/MyDrive/Index/europarl/europarl/fr/ep-02-05-13-fr.txt', '/content/drive/MyDrive/Index/europarl/europarl/fr/ep-00-05-04-fr.txt', '/content/drive/MyDrive/Index/europarl/europarl/fr/ep-01-11-28-fr.txt', '/content/drive/MyDrive/Index/europarl/europarl/fr/ep-01-10-22-fr.txt', '/content/drive/MyDrive/Index/europarl/europarl/fr/ep-01-11-29-fr.txt', '/content/drive/MyDrive/Index/europarl/europarl/fr/ep-01-12-10-fr.txt', '/content/drive/MyDrive/Index/europarl/europarl/fr/ep-02-09-04-fr.txt', '/content/drive/MyDrive/Index/europarl/europarl/fr/ep-02-11-19-fr.txt', '/content/drive/MyDrive/Index/europarl/europarl/fr/ep-01-01-18-fr.txt', '/content/drive/MyDrive/Index/europarl/europarl/fr/ep-02-04-08-fr.txt', '/content/drive/MyDrive/Index/europarl/europarl/fr/ep-00-06-15-fr.txt', '/content/drive/MyDrive/Index/europarl/europarl/fr/ep-00-10-23-fr.txt', '/content/drive/MyDrive/Index/europarl/europarl/fr/ep-01-05-14-fr.txt', '/content/drive/MyDrive/Index/europarl/europarl/fr/ep-00-04-13-fr.txt', '/content/drive/MyDrive/Index/europarl/europarl/fr/ep-00-09-21-fr.txt', '/content/drive/MyDrive/Index/europarl/europarl/fr/ep-00-03-15-fr.txt', '/content/drive/MyDrive/Index/europarl/europarl/fr/ep-00-02-03-fr.txt', '/content/drive/MyDrive/Index/europarl/europarl/fr/ep-01-10-24-fr.txt', '/content/drive/MyDrive/Index/europarl/europarl/fr/ep-02-10-10-fr.txt', '/content/drive/MyDrive/Index/europarl/europarl/fr/ep-02-10-21-fr.txt', '/content/drive/MyDrive/Index/europarl/europarl/fr/ep-02-03-11-fr.txt', '/content/drive/MyDrive/Index/europarl/europarl/fr/ep-00-03-17-fr.txt', '/content/drive/MyDrive/Index/europarl/europarl/fr/ep-00-07-06-fr.txt', '/content/drive/MyDrive/Index/europarl/europarl/fr/ep-01-04-02-fr.txt', '/content/drive/MyDrive/Index/europarl/europarl/fr/ep-03-05-14-fr.txt', '/content/drive/MyDrive/Index/europarl/europarl/fr/ep-05-04-27-fr.txt', '/content/drive/MyDrive/Index/europarl/europarl/fr/ep-04-01-15-fr.txt', '/content/drive/MyDrive/Index/europarl/europarl/fr/ep-05-03-07-fr.txt', '/content/drive/MyDrive/Index/europarl/europarl/fr/ep-04-04-22-fr.txt', '/content/drive/MyDrive/Index/europarl/europarl/fr/ep-04-12-13-fr.txt', '/content/drive/MyDrive/Index/europarl/europarl/fr/ep-05-03-10-fr.txt', '/content/drive/MyDrive/Index/europarl/europarl/fr/ep-04-09-13-fr.txt', '/content/drive/MyDrive/Index/europarl/europarl/fr/ep-04-10-28-fr.txt', '/content/drive/MyDrive/Index/europarl/europarl/fr/ep-05-01-27-fr.txt', '/content/drive/MyDrive/Index/europarl/europarl/fr/ep-04-12-02-fr.txt', '/content/drive/MyDrive/Index/europarl/europarl/fr/ep-05-05-10-fr.txt', '/content/drive/MyDrive/Index/europarl/europarl/fr/ep-04-07-21-fr.txt', '/content/drive/MyDrive/Index/europarl/europarl/fr/ep-03-10-22-fr.txt', '/content/drive/MyDrive/Index/europarl/europarl/fr/ep-05-12-01-fr.txt', '/content/drive/MyDrive/Index/europarl/europarl/fr/ep-04-12-15-fr.txt', '/content/drive/MyDrive/Index/europarl/europarl/fr/ep-05-01-10-fr.txt', '/content/drive/MyDrive/Index/europarl/europarl/fr/ep-02-01-14-fr.txt', '/content/drive/MyDrive/Index/europarl/europarl/fr/ep-05-06-22-fr.txt', '/content/drive/MyDrive/Index/europarl/europarl/fr/ep-05-01-26-fr.txt', '/content/drive/MyDrive/Index/europarl/europarl/fr/ep-04-04-19-fr.txt', '/content/drive/MyDrive/Index/europarl/europarl/fr/ep-04-11-15-fr.txt', '/content/drive/MyDrive/Index/europarl/europarl/fr/ep-04-01-29-fr.txt', '/content/drive/MyDrive/Index/europarl/europarl/fr/ep-04-11-16-fr.txt', '/content/drive/MyDrive/Index/europarl/europarl/fr/ep-04-10-27-fr.txt', '/content/drive/MyDrive/Index/europarl/europarl/fr/ep-04-09-16-fr.txt', '/content/drive/MyDrive/Index/europarl/europarl/fr/ep-04-11-17-fr.txt', '/content/drive/MyDrive/Index/europarl/europarl/fr/ep-04-05-04-fr.txt', '/content/drive/MyDrive/Index/europarl/europarl/fr/ep-04-07-22-fr.txt', '/content/drive/MyDrive/Index/europarl/europarl/fr/ep-04-02-12-fr.txt', '/content/drive/MyDrive/Index/europarl/europarl/fr/ep-05-07-04-fr.txt', '/content/drive/MyDrive/Index/europarl/europarl/fr/ep-05-10-12-fr.txt', '/content/drive/MyDrive/Index/europarl/europarl/fr/ep-05-05-11-fr.txt', '/content/drive/MyDrive/Index/europarl/europarl/fr/ep-04-02-09-fr.txt', '/content/drive/MyDrive/Index/europarl/europarl/fr/ep-04-03-11-fr.txt', '/content/drive/MyDrive/Index/europarl/europarl/fr/ep-05-07-07-fr.txt', '/content/drive/MyDrive/Index/europarl/europarl/fr/ep-03-12-15-fr.txt', '/content/drive/MyDrive/Index/europarl/europarl/fr/ep-03-11-17-fr.txt', '/content/drive/MyDrive/Index/europarl/europarl/fr/ep-05-01-13-fr.txt', '/content/drive/MyDrive/Index/europarl/europarl/fr/ep-05-05-12-fr.txt', '/content/drive/MyDrive/Index/europarl/europarl/fr/ep-04-05-05-fr.txt', '/content/drive/MyDrive/Index/europarl/europarl/fr/ep-05-05-25-fr.txt', '/content/drive/MyDrive/Index/europarl/europarl/fr/ep-04-05-03-fr.txt', '/content/drive/MyDrive/Index/europarl/europarl/fr/ep-04-12-01-fr.txt', '/content/drive/MyDrive/Index/europarl/europarl/fr/ep-04-02-26-fr.txt', '/content/drive/MyDrive/Index/europarl/europarl/fr/ep-05-04-28-fr.txt', '/content/drive/MyDrive/Index/europarl/europarl/fr/ep-03-11-20-fr.txt', '/content/drive/MyDrive/Index/europarl/europarl/fr/ep-04-02-25-fr.txt', '/content/drive/MyDrive/Index/europarl/europarl/fr/ep-04-03-08-fr.txt', '/content/drive/MyDrive/Index/europarl/europarl/fr/.DS_Store'])\n"
          ]
        }
      ]
    },
    {
      "cell_type": "code",
      "source": [
        "index_inverse = {\n",
        "    \"docA\": [\"Le\", \"petit\", \"chat\", \"dort\"],\n",
        "    \"docB\": [\"Le\", \"chat\", \"dort\"],\n",
        "    \"docC\": [\"Jean\", \"dort\"]\n",
        "}\n"
      ],
      "metadata": {
        "id": "eHniPsh205T0"
      },
      "id": "eHniPsh205T0",
      "execution_count": null,
      "outputs": []
    },
    {
      "cell_type": "markdown",
      "source": [
        "\n",
        "# **Exercice 7 : Calcul du taux de similarit´e cosinus**"
      ],
      "metadata": {
        "id": "6a-tsaX14TU6"
      },
      "id": "6a-tsaX14TU6"
    },
    {
      "cell_type": "code",
      "source": [
        "import math\n",
        "\n",
        "# Exemple de vecteur TF-IDF pour une requête\n",
        "requete = {\"Le\": 0.2, \"petit\": 0.1, \"chat\": 0.3, \"dort\": 0.4}\n",
        "\n",
        "# Exemple de documents trouvés avec leurs vecteurs TF-IDF\n",
        "documents_trouves = {\n",
        "    \"docA\": {\"Le\": 0.25, \"petit\": 0.25, \"chat\": 0.25, \"dort\": 0.25},\n",
        "    \"docB\": {\"Le\": 0.3333, \"chat\": 0.3333, \"dort\": 0.3333},\n",
        "    \"docC\": {\"Jean\": 0.5, \"dort\": 0.5}\n",
        "}\n",
        "\n",
        "def calculer_similarites_cosinus(requete, documents):\n",
        "    sim_cosinus = {}\n",
        "    for doc, vecteur in documents.items():\n",
        "        sim_cosinus[doc] = calculer_similarite_cosinus(requete, vecteur)\n",
        "    return sim_cosinus\n",
        "\n",
        "def calculer_ponderation_cosinus(requete, index_inverse, documents_trouves):\n",
        "    sim_cosinus = calculer_similarites_cosinus(requete, documents_trouves)\n",
        "    docs_pond = {}\n",
        "    for doc, sim in sim_cosinus.items():\n",
        "        docs_pond[doc] = sim * len(index_inverse[doc])  # Pondération par le nombre de termes dans le document\n",
        "    return docs_pond\n",
        "\n",
        "# Fonction pour trier les documents par pertinence décroissante\n",
        "def trier_documents_par_pertinence(docs_pond):\n",
        "    docs_pond_liste = [[sim, chemin] for chemin, sim in docs_pond.items()]\n",
        "    docs_pond_liste = sorted(docs_pond_liste, reverse=True)\n",
        "    return docs_pond_liste\n",
        "\n",
        "# Calculer la pondération cosinus pour la requête et les documents trouvés\n",
        "docs_pond = calculer_ponderation_cosinus(requete, index_inverse, documents_trouves)\n",
        "\n",
        "# Trier les documents par pertinence décroissante\n",
        "docs_pond_liste = trier_documents_par_pertinence(docs_pond)\n",
        "\n",
        "# Afficher les résultats triés\n",
        "for sim, chemin in docs_pond_liste:\n",
        "    print(f\"Similitude cosinus : {sim}, Document : {chemin}\")\n"
      ],
      "metadata": {
        "colab": {
          "base_uri": "https://localhost:8080/"
        },
        "id": "KmBP6kXCzPQk",
        "outputId": "5326dfc3-ea59-4823-ce4d-42cea766759e"
      },
      "id": "KmBP6kXCzPQk",
      "execution_count": null,
      "outputs": [
        {
          "output_type": "stream",
          "name": "stdout",
          "text": [
            "Similitude cosinus : 3.651483716701107, Document : docA\n",
            "Similitude cosinus : 2.846049894151541, Document : docB\n",
            "Similitude cosinus : 1.0327955589886444, Document : docC\n"
          ]
        }
      ]
    },
    {
      "cell_type": "markdown",
      "source": [
        "# **Exercice 8 : Classement par pertinence (ranking)**"
      ],
      "metadata": {
        "id": "PHRQAVOS4LIp"
      },
      "id": "PHRQAVOS4LIp"
    },
    {
      "cell_type": "code",
      "source": [
        "import math\n",
        "\n",
        "# Exemple de vecteur TF-IDF pour une requête\n",
        "requete = {\"Le\": 0.2, \"petit\": 0.1, \"chat\": 0.3, \"dort\": 0.4}\n",
        "\n",
        "# Exemple de documents trouvés avec leurs vecteurs TF-IDF\n",
        "documents_trouves = {\n",
        "    \"docA\": {\"Le\": 0.25, \"petit\": 0.25, \"chat\": 0.25, \"dort\": 0.25},\n",
        "    \"docB\": {\"Le\": 0.3333, \"chat\": 0.3333, \"dort\": 0.3333},\n",
        "    \"docC\": {\"Jean\": 0.5, \"dort\": 0.5}\n",
        "}\n",
        "\n",
        "# Calculer la similarité cosinus entre deux vecteurs TF-IDF\n",
        "def calculer_similarite_cosinus(vecteur1, vecteur2):\n",
        "    produit_scalaire = sum(vecteur1[term] * vecteur2.get(term, 0) for term in vecteur1)\n",
        "    norme_vecteur1 = math.sqrt(sum(vecteur1[term] ** 2 for term in vecteur1))\n",
        "    norme_vecteur2 = math.sqrt(sum(vecteur2[term] ** 2 for term in vecteur2))\n",
        "    if norme_vecteur1 != 0 and norme_vecteur2 != 0:\n",
        "        return produit_scalaire / (norme_vecteur1 * norme_vecteur2)\n",
        "    else:\n",
        "        return 0\n",
        "\n",
        "# Calculer les similarités cosinus entre la requête et les documents trouvés\n",
        "def calculer_similarites_cosinus(requete, documents):\n",
        "    sim_cosinus = {}\n",
        "    for doc, vecteur in documents.items():\n",
        "        sim_cosinus[doc] = calculer_similarite_cosinus(requete, vecteur)\n",
        "    return sim_cosinus\n",
        "\n",
        "# Fonction pour trier les documents par pertinence décroissante\n",
        "def trier_documents_par_pertinence(requete, documents_trouves):\n",
        "    sim_cosinus = calculer_similarites_cosinus(requete, documents_trouves)\n",
        "    docs_pond = [[sim, chemin] for chemin, sim in sim_cosinus.items()]\n",
        "    docs_pond = sorted(docs_pond, key=lambda x: x[0], reverse=True)\n",
        "    return docs_pond\n",
        "\n",
        "# Appeler la fonction pour trier les documents par pertinence\n",
        "docs_pond_liste = trier_documents_par_pertinence(requete, documents_trouves)\n",
        "\n",
        "# Afficher les résultats triés\n",
        "for sim, chemin in docs_pond_liste:\n",
        "    print(f\"{sim} {chemin}\")\n",
        "\n"
      ],
      "metadata": {
        "colab": {
          "base_uri": "https://localhost:8080/"
        },
        "id": "ewfYHWM315lp",
        "outputId": "87d8a1bf-6830-4dbe-e8dd-94a6f9b8d736"
      },
      "id": "ewfYHWM315lp",
      "execution_count": null,
      "outputs": [
        {
          "output_type": "stream",
          "name": "stdout",
          "text": [
            "0.9486832980505137 docB\n",
            "0.9128709291752768 docA\n",
            "0.5163977794943222 docC\n"
          ]
        }
      ]
    },
    {
      "cell_type": "markdown",
      "source": [
        "# **Exercice 9 : Structuration de l’espace de recherche**"
      ],
      "metadata": {
        "id": "-Wi2sYoQ4HAe"
      },
      "id": "-Wi2sYoQ4HAe"
    },
    {
      "cell_type": "code",
      "source": [
        "from sklearn.neighbors import KDTree\n",
        "import numpy as np\n",
        "\n",
        "# Exemple de données TF-IDF (vecteurs)\n",
        "tfidf_vectors = np.array([\n",
        "    [0.25, 0.25, 0.25, 0.25],  # docA\n",
        "    [0.3333, 0, 0.3333, 0.3333],  # docB\n",
        "    [0, 0, 0.5, 0.5]  # docC\n",
        "])\n",
        "\n",
        "# Construire l'index KD-Tree\n",
        "kd_tree = KDTree(tfidf_vectors)\n",
        "\n",
        "# Exemple de requête (vecteur TF-IDF)\n",
        "requete = np.array([[0.2, 0.1, 0.3, 0.4]])\n",
        "\n",
        "# Trouver les k plus proches voisins\n",
        "k_neighbors = kd_tree.query(requete, k=2, return_distance=False)\n",
        "\n",
        "# Afficher les résultats\n",
        "for neighbor_index in k_neighbors[0]:\n",
        "    print(f\"Document le plus proche : doc{neighbor_index + 1}\")\n"
      ],
      "metadata": {
        "colab": {
          "base_uri": "https://localhost:8080/"
        },
        "id": "QbMPyVc42aBD",
        "outputId": "b08d5b6d-1132-4d82-d50e-4d824424f53a"
      },
      "id": "QbMPyVc42aBD",
      "execution_count": null,
      "outputs": [
        {
          "metadata": {
            "tags": null
          },
          "name": "stdout",
          "output_type": "stream",
          "text": [
            "Document le plus proche : doc2\n",
            "Document le plus proche : doc1\n"
          ]
        }
      ]
    }
  ],
  "metadata": {
    "colab": {
      "provenance": []
    },
    "kernelspec": {
      "display_name": "Python 3",
      "name": "python3"
    },
    "language_info": {
      "codemirror_mode": {
        "name": "ipython",
        "version": 3
      },
      "file_extension": ".py",
      "mimetype": "text/x-python",
      "name": "python",
      "nbconvert_exporter": "python",
      "pygments_lexer": "ipython3",
      "version": "3.9.12"
    }
  },
  "nbformat": 4,
  "nbformat_minor": 5
}